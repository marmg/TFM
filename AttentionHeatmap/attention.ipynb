{
 "cells": [
  {
   "cell_type": "code",
   "execution_count": 1,
   "metadata": {},
   "outputs": [],
   "source": [
    "import matplotlib\n",
    "import numpy as np\n",
    "\n",
    "matplotlib.use('Agg')  # Must be before importing matplotlib.pyplot or pylab!\n",
    "import matplotlib.pyplot as plt  # drawing heat map of attention weights\n",
    "\n",
    "plt.rcParams['font.sans-serif'] = ['SimSun']  # set font family"
   ]
  },
  {
   "cell_type": "code",
   "execution_count": 2,
   "metadata": {},
   "outputs": [],
   "source": [
    "import plotly.graph_objects as go"
   ]
  },
  {
   "cell_type": "code",
   "execution_count": 3,
   "metadata": {},
   "outputs": [],
   "source": [
    "import pickle as pkl\n",
    "\n",
    "import numpy as np\n",
    "import torch\n",
    "\n",
    "from transformers import AutoModelForMultipleChoice, AutoTokenizer\n",
    "from datasets import load_dataset\n",
    "\n",
    "from src.utils_multiple_choice import convert_examples_to_features, InputExample"
   ]
  },
  {
   "cell_type": "code",
   "execution_count": 4,
   "metadata": {},
   "outputs": [],
   "source": [
    "def softmax(x):\n",
    "    \"\"\"Compute softmax values for each sets of scores in x.\"\"\"\n",
    "    e_x = np.exp(x - np.max(x))\n",
    "    return e_x / e_x.sum()"
   ]
  },
  {
   "cell_type": "code",
   "execution_count": 5,
   "metadata": {},
   "outputs": [
    {
     "name": "stderr",
     "output_type": "stream",
     "text": [
      "Reusing dataset race (/home/marcos/.cache/huggingface/datasets/race/middle/0.1.0/a7d1fac780e70c0e75bca35e9f2f8cfc1411edd18ffd6858ddce56f70dfb1e7c)\n"
     ]
    }
   ],
   "source": [
    "model = AutoModelForMultipleChoice.from_pretrained(\"../assets/models/bb_race_m/\")\n",
    "tokenizer = AutoTokenizer.from_pretrained(\"../assets/models/bb_race_m\")\n",
    "\n",
    "dataset = load_dataset(\"race\", \"middle\")\n",
    "test = dataset['test']\n",
    "\n",
    "label_list = [\"0\", \"1\", \"2\", \"3\"]\n",
    "label_map = {\n",
    "    0: \"A\",\n",
    "    1: \"B\",\n",
    "    2: \"C\",\n",
    "    3: \"D\"\n",
    "}\n",
    "max_seq_length = 128"
   ]
  },
  {
   "cell_type": "code",
   "execution_count": 6,
   "metadata": {},
   "outputs": [],
   "source": [
    "def predict(article, question, options, real_label=None, return_result=False):\n",
    "    examples = [InputExample(\n",
    "        example_id=\"pred\",\n",
    "        question=question,\n",
    "        contexts=[article, article, article, article],  # this is not efficient but convenient\n",
    "        endings=[options[0], options[1], options[2], options[3]],\n",
    "        label=str(ord(real_label) - ord(\"A\")) if real_label else \"0\"\n",
    "    )]\n",
    "    \n",
    "    feature = convert_examples_to_features(\n",
    "        examples,\n",
    "        label_list,\n",
    "        max_seq_length,\n",
    "        tokenizer\n",
    "    )[0]\n",
    "    \n",
    "    features = {\n",
    "        'input_ids': torch.tensor([feature.input_ids]),\n",
    "        'attention_mask': torch.tensor([feature.attention_mask]),\n",
    "        'token_type_ids': torch.tensor([feature.token_type_ids]),\n",
    "    } \n",
    "    \n",
    "    if return_result:\n",
    "        result = model.forward(features['input_ids'], features['attention_mask'], features['token_type_ids'], \n",
    "                               output_attentions=True, output_hidden_states=True, return_dict=True)\n",
    "        return result\n",
    "    else:\n",
    "        result = model.forward(features['input_ids'], features['attention_mask'], features['token_type_ids'])[0][0]\n",
    "        print(result)\n",
    "        return np.array([float(abs(x)) for x in result]).argmax()"
   ]
  },
  {
   "cell_type": "code",
   "execution_count": 129,
   "metadata": {},
   "outputs": [
    {
     "name": "stderr",
     "output_type": "stream",
     "text": [
      "convert examples to features: 1it [00:00, 60.09it/s]\n"
     ]
    },
    {
     "name": "stdout",
     "output_type": "stream",
     "text": [
      "tensor([-2.8149, -3.3435, -3.6580, -2.5833], grad_fn=<SelectBackward>)\n",
      "Question: A discipline leader is supposed to  _  .\n",
      "Options: ['take care of the whole group', 'make sure that everybody finishes homework', 'make sure that nobody chats in class', 'collect all the homework and hand it in to teachers']\n",
      "Result: C\n"
     ]
    }
   ],
   "source": [
    "ex = test[0]\n",
    "\n",
    "article = ex['article']\n",
    "question = ex['question']\n",
    "options = ex['options']\n",
    "real_label = ex['answer']\n",
    "\n",
    "result = predict(article, question, options, real_label)\n",
    "print(f\"Question: {question}\")\n",
    "print(f\"Options: {options}\")\n",
    "print(f\"Result: {label_map[result]}\")"
   ]
  },
  {
   "cell_type": "code",
   "execution_count": 71,
   "metadata": {},
   "outputs": [
    {
     "name": "stderr",
     "output_type": "stream",
     "text": [
      "convert examples to features: 1it [00:00, 71.65it/s]\n"
     ]
    }
   ],
   "source": [
    "result = predict(article, question, options, real_label, return_result=True)"
   ]
  },
  {
   "cell_type": "code",
   "execution_count": 143,
   "metadata": {
    "pycharm": {
     "name": "#%%\n"
    }
   },
   "outputs": [],
   "source": [
    "def get_atts(ex, option):\n",
    "    examples = [InputExample(\n",
    "        example_id=\"pred\",\n",
    "        question=ex['question'],\n",
    "        contexts=[ex['article'], ex['article'], ex['article'], ex['article']],  # this is not efficient but convenient\n",
    "        endings=[ex['options'][0], ex['options'][1], ex['options'][2], ex['options'][3]],\n",
    "        label=str(ord(ex['answer']) - ord(\"A\")) if ex['answer'] else \"0\"\n",
    "    )]\n",
    "    \n",
    "    feature = convert_examples_to_features(\n",
    "        examples,\n",
    "        label_list,\n",
    "        max_seq_length,\n",
    "        tokenizer\n",
    "    )[0]\n",
    "    \n",
    "    features = {\n",
    "        'input_ids': torch.tensor([feature.input_ids]),\n",
    "        'attention_mask': torch.tensor([feature.attention_mask]),\n",
    "        'token_type_ids': torch.tensor([feature.token_type_ids]),\n",
    "    } \n",
    "    input_id_list = feature.input_ids[option]\n",
    "    tokens = tokenizer.convert_ids_to_tokens(input_id_list) \n",
    "    token_type_ids = feature.token_type_ids\n",
    "    \n",
    "    attention = model.forward(features['input_ids'], features['attention_mask'], features['token_type_ids'], \n",
    "                               output_attentions=True, output_hidden_states=True, return_dict=True)['attentions']\n",
    "    \n",
    "    q_start = token_type_ids[option].index(1)\n",
    "    option_start = len(tokenizer.tokenize(question)[:-2])\n",
    "    tokens_ = tokens[q_start:]\n",
    "    atts = []\n",
    "    for att in attention:\n",
    "\n",
    "        atts.append(att[option].reshape(1, 12, 128, 128)[:, :, q_start:, q_start:])\n",
    "\n",
    "    return atts, tokens_, option_start"
   ]
  },
  {
   "cell_type": "code",
   "execution_count": 144,
   "metadata": {},
   "outputs": [
    {
     "name": "stderr",
     "output_type": "stream",
     "text": [
      "convert examples to features: 1it [00:00, 61.69it/s]\n"
     ]
    }
   ],
   "source": [
    "atts, tokens, option_start = get_atts(ex, option=2)"
   ]
  },
  {
   "cell_type": "code",
   "execution_count": 145,
   "metadata": {},
   "outputs": [
    {
     "data": {
      "text/plain": [
       "(['what',\n",
       "  'is',\n",
       "  'a',\n",
       "  'discipline',\n",
       "  'leader',\n",
       "  '?',\n",
       "  'a',\n",
       "  'person',\n",
       "  'supposed',\n",
       "  'to',\n",
       "  'make',\n",
       "  'sure',\n",
       "  'that',\n",
       "  'nobody',\n",
       "  'chat',\n",
       "  '##s',\n",
       "  'in',\n",
       "  'class',\n",
       "  '[SEP]'],\n",
       " 6)"
      ]
     },
     "execution_count": 145,
     "metadata": {},
     "output_type": "execute_result"
    }
   ],
   "source": [
    "tokens, option_start"
   ]
  },
  {
   "cell_type": "markdown",
   "metadata": {},
   "source": [
    "##### Heatmap"
   ]
  },
  {
   "cell_type": "code",
   "execution_count": 146,
   "metadata": {},
   "outputs": [],
   "source": [
    "ex['question'] = \"What is a discipline leader?\"\n",
    "ex['options'] = [\n",
    "    \"A person supposed to take care of the whole group\",\n",
    "    \"A person supposed to make sure that everybody finished homework\",\n",
    "    \"A person supposed to make sure that nobody chats in class\",\n",
    "    \"A person supposed to collect all the homework and hand it in to teachers\"\n",
    "]"
   ]
  },
  {
   "cell_type": "code",
   "execution_count": 147,
   "metadata": {},
   "outputs": [
    {
     "name": "stderr",
     "output_type": "stream",
     "text": [
      "convert examples to features: 1it [00:00, 78.00it/s]\n",
      "convert examples to features: 1it [00:00, 75.95it/s]"
     ]
    },
    {
     "name": "stdout",
     "output_type": "stream",
     "text": [
      "Saving figures ../assets/attentions/attention_heatmap_ex1_modB_0.jpg\n"
     ]
    },
    {
     "name": "stderr",
     "output_type": "stream",
     "text": [
      "\n",
      "convert examples to features: 1it [00:00, 75.63it/s]"
     ]
    },
    {
     "name": "stdout",
     "output_type": "stream",
     "text": [
      "Saving figures ../assets/attentions/attention_heatmap_ex1_modB_1.jpg\n"
     ]
    },
    {
     "name": "stderr",
     "output_type": "stream",
     "text": [
      "\n",
      "convert examples to features: 1it [00:00, 85.60it/s]"
     ]
    },
    {
     "name": "stdout",
     "output_type": "stream",
     "text": [
      "Saving figures ../assets/attentions/attention_heatmap_ex1_modB_2.jpg\n"
     ]
    },
    {
     "name": "stderr",
     "output_type": "stream",
     "text": [
      "\n"
     ]
    },
    {
     "name": "stdout",
     "output_type": "stream",
     "text": [
      "Saving figures ../assets/attentions/attention_heatmap_ex1_modB_3.jpg\n"
     ]
    }
   ],
   "source": [
    "for option in range(4):\n",
    "    atts, tokens, option_start = get_atts(ex, option=option)\n",
    "    data = []\n",
    "    for word_q in range(option_start):\n",
    "        data.append(np.sum([atts[0][0][i][word_q][option_start:-1] for i in range(len(atts[0][0]))]).detach().numpy())\n",
    "\n",
    "    data = np.array(data)\n",
    "\n",
    "    fig, ax = plt.subplots(figsize=(20, 8))  # set figure size\n",
    "    heatmap = ax.pcolor(data, cmap=plt.cm.Blues, alpha=0.9)\n",
    "\n",
    "    X_label = tokens[option_start:]\n",
    "    xticks = range(0, len(X_label))\n",
    "    ax.set_xticks(xticks, minor=False)  # major ticks\n",
    "    ax.set_xticklabels(X_label, minor=False, rotation=45)  # labels should be 'unicode'\n",
    "\n",
    "    Y_label = tokens[:option_start]\n",
    "    yticks = range(0, len(Y_label))\n",
    "    ax.set_yticks(yticks, minor=False)\n",
    "    ax.set_yticklabels(Y_label, minor=False)  # labels should be 'unicode'\n",
    "\n",
    "    ax.grid(True)\n",
    "\n",
    "    plt.title(f'Attention Heatmap for Option {option}')\n",
    "    file_name = f'../assets/attentions/attention_heatmap_ex1_modB_{option}.jpg'\n",
    "    print(\"Saving figures %s\" % file_name)\n",
    "    fig.savefig(file_name)  # save the figure to file\n",
    "    plt.close(fig) "
   ]
  },
  {
   "cell_type": "markdown",
   "metadata": {},
   "source": [
    "##### 3D Attention"
   ]
  },
  {
   "cell_type": "code",
   "execution_count": 76,
   "metadata": {},
   "outputs": [
    {
     "name": "stderr",
     "output_type": "stream",
     "text": [
      "convert examples to features: 1it [00:00, 70.84it/s]\n"
     ]
    }
   ],
   "source": [
    "option=0\n",
    "atts, tokens, option_start = get_atts(ex, option=option)\n",
    "data = []\n",
    "for word_q in range(option_start):\n",
    "    data_word_q = []\n",
    "    for i in range(len(atts[0][0])):\n",
    "        data_word_q.append(atts[0][0][i][word_q][option_start:-1].detach().numpy())\n",
    "    data.append(data_word_q)\n",
    "data = np.array(data)"
   ]
  },
  {
   "cell_type": "code",
   "execution_count": 104,
   "metadata": {},
   "outputs": [],
   "source": [
    "from mpl_toolkits.mplot3d import Axes3D"
   ]
  },
  {
   "cell_type": "code",
   "execution_count": 129,
   "metadata": {},
   "outputs": [],
   "source": [
    "x = np.arange(data.shape[0])[:, None, None]\n",
    "y = np.arange(data.shape[1])[None, :, None]\n",
    "z = np.arange(data.shape[2])[None, None, :]\n",
    "x, y, z = np.broadcast_arrays(x, y, z)"
   ]
  },
  {
   "cell_type": "code",
   "execution_count": 120,
   "metadata": {},
   "outputs": [
    {
     "data": {
      "text/plain": [
       "<mpl_toolkits.mplot3d.art3d.Path3DCollection at 0x7f9b82c44ee0>"
      ]
     },
     "execution_count": 120,
     "metadata": {},
     "output_type": "execute_result"
    }
   ],
   "source": [
    "c = np.tile(data.ravel()[:, None], [1, 3])\n",
    "\n",
    "# Do the plotting in a single call.\n",
    "fig = plt.figure()\n",
    "ax = fig.gca(projection='3d')\n",
    "ax.scatter(x.ravel(),\n",
    "           y.ravel(),\n",
    "           z.ravel(),\n",
    "           c=c)"
   ]
  },
  {
   "cell_type": "code",
   "execution_count": 121,
   "metadata": {},
   "outputs": [],
   "source": [
    "plt.savefig(\"demo.png\")"
   ]
  },
  {
   "cell_type": "code",
   "execution_count": 167,
   "metadata": {},
   "outputs": [],
   "source": [
    "a = zip(*data)"
   ]
  },
  {
   "cell_type": "code",
   "execution_count": 168,
   "metadata": {},
   "outputs": [],
   "source": [
    "a = np.array(list(a))"
   ]
  },
  {
   "cell_type": "code",
   "execution_count": 175,
   "metadata": {},
   "outputs": [
    {
     "data": {
      "text/plain": [
       "array([[0.0559358 , 0.04751505, 0.03657236, 0.08261423, 0.06124244,\n",
       "        0.04445195, 0.07587941],\n",
       "       [0.05117421, 0.03134036, 0.03457394, 0.04409941, 0.05890233,\n",
       "        0.03352771, 0.04296431],\n",
       "       [0.03788564, 0.05488049, 0.0370061 , 0.0292864 , 0.05319819,\n",
       "        0.03009209, 0.04455039],\n",
       "       [0.07881433, 0.03995156, 0.06948719, 0.02964894, 0.07002679,\n",
       "        0.02887556, 0.02755512],\n",
       "       [0.04289049, 0.03814007, 0.03931659, 0.06014733, 0.03161725,\n",
       "        0.04444621, 0.08969691],\n",
       "       [0.05505043, 0.0340323 , 0.06556389, 0.03901948, 0.05987165,\n",
       "        0.04316136, 0.08621822]], dtype=float32)"
      ]
     },
     "execution_count": 175,
     "metadata": {},
     "output_type": "execute_result"
    }
   ],
   "source": [
    "a[0]"
   ]
  },
  {
   "cell_type": "code",
   "execution_count": 209,
   "metadata": {},
   "outputs": [],
   "source": [
    "data_plot = []\n",
    "for i in range(len(a)):\n",
    "    x = list(range(len(a[i])))\n",
    "    y = list(range(len(a[i][0])))\n",
    "    z = a[i]\n",
    "    data_plot.append(go.Surface(x=z, y=y, z=x))"
   ]
  },
  {
   "cell_type": "code",
   "execution_count": 210,
   "metadata": {},
   "outputs": [
    {
     "data": {
      "application/vnd.plotly.v1+json": {
       "config": {
        "plotlyServerURL": "https://plot.ly"
       },
       "data": [
        {
         "type": "surface",
         "x": [
          [
           0.05593579635024071,
           0.04751504585146904,
           0.03657235950231552,
           0.0826142281293869,
           0.06124243885278702,
           0.04445194825530052,
           0.07587940990924835
          ],
          [
           0.05117420852184296,
           0.03134036436676979,
           0.03457394242286682,
           0.04409940913319588,
           0.058902330696582794,
           0.033527713268995285,
           0.04296430945396423
          ],
          [
           0.0378856435418129,
           0.05488048866391182,
           0.03700610250234604,
           0.029286395758390427,
           0.0531981885433197,
           0.030092092230916023,
           0.04455038905143738
          ],
          [
           0.07881432771682739,
           0.03995156288146973,
           0.06948719173669815,
           0.02964893914759159,
           0.07002679258584976,
           0.0288755614310503,
           0.02755511738359928
          ],
          [
           0.042890485376119614,
           0.03814006969332695,
           0.03931659460067749,
           0.06014733389019966,
           0.03161725029349327,
           0.04444620758295059,
           0.08969690650701523
          ],
          [
           0.05505042523145676,
           0.034032296389341354,
           0.06556389480829239,
           0.03901948407292366,
           0.05987165495753288,
           0.043161358684301376,
           0.0862182229757309
          ]
         ],
         "y": [
          0,
          1,
          2,
          3,
          4,
          5,
          6
         ],
         "z": [
          0,
          1,
          2,
          3,
          4,
          5
         ]
        }
       ],
       "layout": {
        "template": {
         "data": {
          "bar": [
           {
            "error_x": {
             "color": "#2a3f5f"
            },
            "error_y": {
             "color": "#2a3f5f"
            },
            "marker": {
             "line": {
              "color": "#E5ECF6",
              "width": 0.5
             }
            },
            "type": "bar"
           }
          ],
          "barpolar": [
           {
            "marker": {
             "line": {
              "color": "#E5ECF6",
              "width": 0.5
             }
            },
            "type": "barpolar"
           }
          ],
          "carpet": [
           {
            "aaxis": {
             "endlinecolor": "#2a3f5f",
             "gridcolor": "white",
             "linecolor": "white",
             "minorgridcolor": "white",
             "startlinecolor": "#2a3f5f"
            },
            "baxis": {
             "endlinecolor": "#2a3f5f",
             "gridcolor": "white",
             "linecolor": "white",
             "minorgridcolor": "white",
             "startlinecolor": "#2a3f5f"
            },
            "type": "carpet"
           }
          ],
          "choropleth": [
           {
            "colorbar": {
             "outlinewidth": 0,
             "ticks": ""
            },
            "type": "choropleth"
           }
          ],
          "contour": [
           {
            "colorbar": {
             "outlinewidth": 0,
             "ticks": ""
            },
            "colorscale": [
             [
              0,
              "#0d0887"
             ],
             [
              0.1111111111111111,
              "#46039f"
             ],
             [
              0.2222222222222222,
              "#7201a8"
             ],
             [
              0.3333333333333333,
              "#9c179e"
             ],
             [
              0.4444444444444444,
              "#bd3786"
             ],
             [
              0.5555555555555556,
              "#d8576b"
             ],
             [
              0.6666666666666666,
              "#ed7953"
             ],
             [
              0.7777777777777778,
              "#fb9f3a"
             ],
             [
              0.8888888888888888,
              "#fdca26"
             ],
             [
              1,
              "#f0f921"
             ]
            ],
            "type": "contour"
           }
          ],
          "contourcarpet": [
           {
            "colorbar": {
             "outlinewidth": 0,
             "ticks": ""
            },
            "type": "contourcarpet"
           }
          ],
          "heatmap": [
           {
            "colorbar": {
             "outlinewidth": 0,
             "ticks": ""
            },
            "colorscale": [
             [
              0,
              "#0d0887"
             ],
             [
              0.1111111111111111,
              "#46039f"
             ],
             [
              0.2222222222222222,
              "#7201a8"
             ],
             [
              0.3333333333333333,
              "#9c179e"
             ],
             [
              0.4444444444444444,
              "#bd3786"
             ],
             [
              0.5555555555555556,
              "#d8576b"
             ],
             [
              0.6666666666666666,
              "#ed7953"
             ],
             [
              0.7777777777777778,
              "#fb9f3a"
             ],
             [
              0.8888888888888888,
              "#fdca26"
             ],
             [
              1,
              "#f0f921"
             ]
            ],
            "type": "heatmap"
           }
          ],
          "heatmapgl": [
           {
            "colorbar": {
             "outlinewidth": 0,
             "ticks": ""
            },
            "colorscale": [
             [
              0,
              "#0d0887"
             ],
             [
              0.1111111111111111,
              "#46039f"
             ],
             [
              0.2222222222222222,
              "#7201a8"
             ],
             [
              0.3333333333333333,
              "#9c179e"
             ],
             [
              0.4444444444444444,
              "#bd3786"
             ],
             [
              0.5555555555555556,
              "#d8576b"
             ],
             [
              0.6666666666666666,
              "#ed7953"
             ],
             [
              0.7777777777777778,
              "#fb9f3a"
             ],
             [
              0.8888888888888888,
              "#fdca26"
             ],
             [
              1,
              "#f0f921"
             ]
            ],
            "type": "heatmapgl"
           }
          ],
          "histogram": [
           {
            "marker": {
             "colorbar": {
              "outlinewidth": 0,
              "ticks": ""
             }
            },
            "type": "histogram"
           }
          ],
          "histogram2d": [
           {
            "colorbar": {
             "outlinewidth": 0,
             "ticks": ""
            },
            "colorscale": [
             [
              0,
              "#0d0887"
             ],
             [
              0.1111111111111111,
              "#46039f"
             ],
             [
              0.2222222222222222,
              "#7201a8"
             ],
             [
              0.3333333333333333,
              "#9c179e"
             ],
             [
              0.4444444444444444,
              "#bd3786"
             ],
             [
              0.5555555555555556,
              "#d8576b"
             ],
             [
              0.6666666666666666,
              "#ed7953"
             ],
             [
              0.7777777777777778,
              "#fb9f3a"
             ],
             [
              0.8888888888888888,
              "#fdca26"
             ],
             [
              1,
              "#f0f921"
             ]
            ],
            "type": "histogram2d"
           }
          ],
          "histogram2dcontour": [
           {
            "colorbar": {
             "outlinewidth": 0,
             "ticks": ""
            },
            "colorscale": [
             [
              0,
              "#0d0887"
             ],
             [
              0.1111111111111111,
              "#46039f"
             ],
             [
              0.2222222222222222,
              "#7201a8"
             ],
             [
              0.3333333333333333,
              "#9c179e"
             ],
             [
              0.4444444444444444,
              "#bd3786"
             ],
             [
              0.5555555555555556,
              "#d8576b"
             ],
             [
              0.6666666666666666,
              "#ed7953"
             ],
             [
              0.7777777777777778,
              "#fb9f3a"
             ],
             [
              0.8888888888888888,
              "#fdca26"
             ],
             [
              1,
              "#f0f921"
             ]
            ],
            "type": "histogram2dcontour"
           }
          ],
          "mesh3d": [
           {
            "colorbar": {
             "outlinewidth": 0,
             "ticks": ""
            },
            "type": "mesh3d"
           }
          ],
          "parcoords": [
           {
            "line": {
             "colorbar": {
              "outlinewidth": 0,
              "ticks": ""
             }
            },
            "type": "parcoords"
           }
          ],
          "pie": [
           {
            "automargin": true,
            "type": "pie"
           }
          ],
          "scatter": [
           {
            "marker": {
             "colorbar": {
              "outlinewidth": 0,
              "ticks": ""
             }
            },
            "type": "scatter"
           }
          ],
          "scatter3d": [
           {
            "line": {
             "colorbar": {
              "outlinewidth": 0,
              "ticks": ""
             }
            },
            "marker": {
             "colorbar": {
              "outlinewidth": 0,
              "ticks": ""
             }
            },
            "type": "scatter3d"
           }
          ],
          "scattercarpet": [
           {
            "marker": {
             "colorbar": {
              "outlinewidth": 0,
              "ticks": ""
             }
            },
            "type": "scattercarpet"
           }
          ],
          "scattergeo": [
           {
            "marker": {
             "colorbar": {
              "outlinewidth": 0,
              "ticks": ""
             }
            },
            "type": "scattergeo"
           }
          ],
          "scattergl": [
           {
            "marker": {
             "colorbar": {
              "outlinewidth": 0,
              "ticks": ""
             }
            },
            "type": "scattergl"
           }
          ],
          "scattermapbox": [
           {
            "marker": {
             "colorbar": {
              "outlinewidth": 0,
              "ticks": ""
             }
            },
            "type": "scattermapbox"
           }
          ],
          "scatterpolar": [
           {
            "marker": {
             "colorbar": {
              "outlinewidth": 0,
              "ticks": ""
             }
            },
            "type": "scatterpolar"
           }
          ],
          "scatterpolargl": [
           {
            "marker": {
             "colorbar": {
              "outlinewidth": 0,
              "ticks": ""
             }
            },
            "type": "scatterpolargl"
           }
          ],
          "scatterternary": [
           {
            "marker": {
             "colorbar": {
              "outlinewidth": 0,
              "ticks": ""
             }
            },
            "type": "scatterternary"
           }
          ],
          "surface": [
           {
            "colorbar": {
             "outlinewidth": 0,
             "ticks": ""
            },
            "colorscale": [
             [
              0,
              "#0d0887"
             ],
             [
              0.1111111111111111,
              "#46039f"
             ],
             [
              0.2222222222222222,
              "#7201a8"
             ],
             [
              0.3333333333333333,
              "#9c179e"
             ],
             [
              0.4444444444444444,
              "#bd3786"
             ],
             [
              0.5555555555555556,
              "#d8576b"
             ],
             [
              0.6666666666666666,
              "#ed7953"
             ],
             [
              0.7777777777777778,
              "#fb9f3a"
             ],
             [
              0.8888888888888888,
              "#fdca26"
             ],
             [
              1,
              "#f0f921"
             ]
            ],
            "type": "surface"
           }
          ],
          "table": [
           {
            "cells": {
             "fill": {
              "color": "#EBF0F8"
             },
             "line": {
              "color": "white"
             }
            },
            "header": {
             "fill": {
              "color": "#C8D4E3"
             },
             "line": {
              "color": "white"
             }
            },
            "type": "table"
           }
          ]
         },
         "layout": {
          "annotationdefaults": {
           "arrowcolor": "#2a3f5f",
           "arrowhead": 0,
           "arrowwidth": 1
          },
          "autotypenumbers": "strict",
          "coloraxis": {
           "colorbar": {
            "outlinewidth": 0,
            "ticks": ""
           }
          },
          "colorscale": {
           "diverging": [
            [
             0,
             "#8e0152"
            ],
            [
             0.1,
             "#c51b7d"
            ],
            [
             0.2,
             "#de77ae"
            ],
            [
             0.3,
             "#f1b6da"
            ],
            [
             0.4,
             "#fde0ef"
            ],
            [
             0.5,
             "#f7f7f7"
            ],
            [
             0.6,
             "#e6f5d0"
            ],
            [
             0.7,
             "#b8e186"
            ],
            [
             0.8,
             "#7fbc41"
            ],
            [
             0.9,
             "#4d9221"
            ],
            [
             1,
             "#276419"
            ]
           ],
           "sequential": [
            [
             0,
             "#0d0887"
            ],
            [
             0.1111111111111111,
             "#46039f"
            ],
            [
             0.2222222222222222,
             "#7201a8"
            ],
            [
             0.3333333333333333,
             "#9c179e"
            ],
            [
             0.4444444444444444,
             "#bd3786"
            ],
            [
             0.5555555555555556,
             "#d8576b"
            ],
            [
             0.6666666666666666,
             "#ed7953"
            ],
            [
             0.7777777777777778,
             "#fb9f3a"
            ],
            [
             0.8888888888888888,
             "#fdca26"
            ],
            [
             1,
             "#f0f921"
            ]
           ],
           "sequentialminus": [
            [
             0,
             "#0d0887"
            ],
            [
             0.1111111111111111,
             "#46039f"
            ],
            [
             0.2222222222222222,
             "#7201a8"
            ],
            [
             0.3333333333333333,
             "#9c179e"
            ],
            [
             0.4444444444444444,
             "#bd3786"
            ],
            [
             0.5555555555555556,
             "#d8576b"
            ],
            [
             0.6666666666666666,
             "#ed7953"
            ],
            [
             0.7777777777777778,
             "#fb9f3a"
            ],
            [
             0.8888888888888888,
             "#fdca26"
            ],
            [
             1,
             "#f0f921"
            ]
           ]
          },
          "colorway": [
           "#636efa",
           "#EF553B",
           "#00cc96",
           "#ab63fa",
           "#FFA15A",
           "#19d3f3",
           "#FF6692",
           "#B6E880",
           "#FF97FF",
           "#FECB52"
          ],
          "font": {
           "color": "#2a3f5f"
          },
          "geo": {
           "bgcolor": "white",
           "lakecolor": "white",
           "landcolor": "#E5ECF6",
           "showlakes": true,
           "showland": true,
           "subunitcolor": "white"
          },
          "hoverlabel": {
           "align": "left"
          },
          "hovermode": "closest",
          "mapbox": {
           "style": "light"
          },
          "paper_bgcolor": "white",
          "plot_bgcolor": "#E5ECF6",
          "polar": {
           "angularaxis": {
            "gridcolor": "white",
            "linecolor": "white",
            "ticks": ""
           },
           "bgcolor": "#E5ECF6",
           "radialaxis": {
            "gridcolor": "white",
            "linecolor": "white",
            "ticks": ""
           }
          },
          "scene": {
           "xaxis": {
            "backgroundcolor": "#E5ECF6",
            "gridcolor": "white",
            "gridwidth": 2,
            "linecolor": "white",
            "showbackground": true,
            "ticks": "",
            "zerolinecolor": "white"
           },
           "yaxis": {
            "backgroundcolor": "#E5ECF6",
            "gridcolor": "white",
            "gridwidth": 2,
            "linecolor": "white",
            "showbackground": true,
            "ticks": "",
            "zerolinecolor": "white"
           },
           "zaxis": {
            "backgroundcolor": "#E5ECF6",
            "gridcolor": "white",
            "gridwidth": 2,
            "linecolor": "white",
            "showbackground": true,
            "ticks": "",
            "zerolinecolor": "white"
           }
          },
          "shapedefaults": {
           "line": {
            "color": "#2a3f5f"
           }
          },
          "ternary": {
           "aaxis": {
            "gridcolor": "white",
            "linecolor": "white",
            "ticks": ""
           },
           "baxis": {
            "gridcolor": "white",
            "linecolor": "white",
            "ticks": ""
           },
           "bgcolor": "#E5ECF6",
           "caxis": {
            "gridcolor": "white",
            "linecolor": "white",
            "ticks": ""
           }
          },
          "title": {
           "x": 0.05
          },
          "xaxis": {
           "automargin": true,
           "gridcolor": "white",
           "linecolor": "white",
           "ticks": "",
           "title": {
            "standoff": 15
           },
           "zerolinecolor": "white",
           "zerolinewidth": 2
          },
          "yaxis": {
           "automargin": true,
           "gridcolor": "white",
           "linecolor": "white",
           "ticks": "",
           "title": {
            "standoff": 15
           },
           "zerolinecolor": "white",
           "zerolinewidth": 2
          }
         }
        },
        "title": {
         "text": "Attention 3D map"
        }
       }
      },
      "text/html": [
       "<div>                            <div id=\"cc9e6b28-3e7b-4e30-83cb-f111f6f05d2b\" class=\"plotly-graph-div\" style=\"height:525px; width:100%;\"></div>            <script type=\"text/javascript\">                require([\"plotly\"], function(Plotly) {                    window.PLOTLYENV=window.PLOTLYENV || {};                                    if (document.getElementById(\"cc9e6b28-3e7b-4e30-83cb-f111f6f05d2b\")) {                    Plotly.newPlot(                        \"cc9e6b28-3e7b-4e30-83cb-f111f6f05d2b\",                        [{\"type\": \"surface\", \"x\": [[0.05593579635024071, 0.04751504585146904, 0.03657235950231552, 0.0826142281293869, 0.06124243885278702, 0.04445194825530052, 0.07587940990924835], [0.05117420852184296, 0.03134036436676979, 0.03457394242286682, 0.04409940913319588, 0.058902330696582794, 0.033527713268995285, 0.04296430945396423], [0.0378856435418129, 0.05488048866391182, 0.03700610250234604, 0.029286395758390427, 0.0531981885433197, 0.030092092230916023, 0.04455038905143738], [0.07881432771682739, 0.03995156288146973, 0.06948719173669815, 0.02964893914759159, 0.07002679258584976, 0.0288755614310503, 0.02755511738359928], [0.042890485376119614, 0.03814006969332695, 0.03931659460067749, 0.06014733389019966, 0.03161725029349327, 0.04444620758295059, 0.08969690650701523], [0.05505042523145676, 0.034032296389341354, 0.06556389480829239, 0.03901948407292366, 0.05987165495753288, 0.043161358684301376, 0.0862182229757309]], \"y\": [0, 1, 2, 3, 4, 5, 6], \"z\": [0, 1, 2, 3, 4, 5]}],                        {\"template\": {\"data\": {\"bar\": [{\"error_x\": {\"color\": \"#2a3f5f\"}, \"error_y\": {\"color\": \"#2a3f5f\"}, \"marker\": {\"line\": {\"color\": \"#E5ECF6\", \"width\": 0.5}}, \"type\": \"bar\"}], \"barpolar\": [{\"marker\": {\"line\": {\"color\": \"#E5ECF6\", \"width\": 0.5}}, \"type\": \"barpolar\"}], \"carpet\": [{\"aaxis\": {\"endlinecolor\": \"#2a3f5f\", \"gridcolor\": \"white\", \"linecolor\": \"white\", \"minorgridcolor\": \"white\", \"startlinecolor\": \"#2a3f5f\"}, \"baxis\": {\"endlinecolor\": \"#2a3f5f\", \"gridcolor\": \"white\", \"linecolor\": \"white\", \"minorgridcolor\": \"white\", \"startlinecolor\": \"#2a3f5f\"}, \"type\": \"carpet\"}], \"choropleth\": [{\"colorbar\": {\"outlinewidth\": 0, \"ticks\": \"\"}, \"type\": \"choropleth\"}], \"contour\": [{\"colorbar\": {\"outlinewidth\": 0, \"ticks\": \"\"}, \"colorscale\": [[0.0, \"#0d0887\"], [0.1111111111111111, \"#46039f\"], [0.2222222222222222, \"#7201a8\"], [0.3333333333333333, \"#9c179e\"], [0.4444444444444444, \"#bd3786\"], [0.5555555555555556, \"#d8576b\"], [0.6666666666666666, \"#ed7953\"], [0.7777777777777778, \"#fb9f3a\"], [0.8888888888888888, \"#fdca26\"], [1.0, \"#f0f921\"]], \"type\": \"contour\"}], \"contourcarpet\": [{\"colorbar\": {\"outlinewidth\": 0, \"ticks\": \"\"}, \"type\": \"contourcarpet\"}], \"heatmap\": [{\"colorbar\": {\"outlinewidth\": 0, \"ticks\": \"\"}, \"colorscale\": [[0.0, \"#0d0887\"], [0.1111111111111111, \"#46039f\"], [0.2222222222222222, \"#7201a8\"], [0.3333333333333333, \"#9c179e\"], [0.4444444444444444, \"#bd3786\"], [0.5555555555555556, \"#d8576b\"], [0.6666666666666666, \"#ed7953\"], [0.7777777777777778, \"#fb9f3a\"], [0.8888888888888888, \"#fdca26\"], [1.0, \"#f0f921\"]], \"type\": \"heatmap\"}], \"heatmapgl\": [{\"colorbar\": {\"outlinewidth\": 0, \"ticks\": \"\"}, \"colorscale\": [[0.0, \"#0d0887\"], [0.1111111111111111, \"#46039f\"], [0.2222222222222222, \"#7201a8\"], [0.3333333333333333, \"#9c179e\"], [0.4444444444444444, \"#bd3786\"], [0.5555555555555556, \"#d8576b\"], [0.6666666666666666, \"#ed7953\"], [0.7777777777777778, \"#fb9f3a\"], [0.8888888888888888, \"#fdca26\"], [1.0, \"#f0f921\"]], \"type\": \"heatmapgl\"}], \"histogram\": [{\"marker\": {\"colorbar\": {\"outlinewidth\": 0, \"ticks\": \"\"}}, \"type\": \"histogram\"}], \"histogram2d\": [{\"colorbar\": {\"outlinewidth\": 0, \"ticks\": \"\"}, \"colorscale\": [[0.0, \"#0d0887\"], [0.1111111111111111, \"#46039f\"], [0.2222222222222222, \"#7201a8\"], [0.3333333333333333, \"#9c179e\"], [0.4444444444444444, \"#bd3786\"], [0.5555555555555556, \"#d8576b\"], [0.6666666666666666, \"#ed7953\"], [0.7777777777777778, \"#fb9f3a\"], [0.8888888888888888, \"#fdca26\"], [1.0, \"#f0f921\"]], \"type\": \"histogram2d\"}], \"histogram2dcontour\": [{\"colorbar\": {\"outlinewidth\": 0, \"ticks\": \"\"}, \"colorscale\": [[0.0, \"#0d0887\"], [0.1111111111111111, \"#46039f\"], [0.2222222222222222, \"#7201a8\"], [0.3333333333333333, \"#9c179e\"], [0.4444444444444444, \"#bd3786\"], [0.5555555555555556, \"#d8576b\"], [0.6666666666666666, \"#ed7953\"], [0.7777777777777778, \"#fb9f3a\"], [0.8888888888888888, \"#fdca26\"], [1.0, \"#f0f921\"]], \"type\": \"histogram2dcontour\"}], \"mesh3d\": [{\"colorbar\": {\"outlinewidth\": 0, \"ticks\": \"\"}, \"type\": \"mesh3d\"}], \"parcoords\": [{\"line\": {\"colorbar\": {\"outlinewidth\": 0, \"ticks\": \"\"}}, \"type\": \"parcoords\"}], \"pie\": [{\"automargin\": true, \"type\": \"pie\"}], \"scatter\": [{\"marker\": {\"colorbar\": {\"outlinewidth\": 0, \"ticks\": \"\"}}, \"type\": \"scatter\"}], \"scatter3d\": [{\"line\": {\"colorbar\": {\"outlinewidth\": 0, \"ticks\": \"\"}}, \"marker\": {\"colorbar\": {\"outlinewidth\": 0, \"ticks\": \"\"}}, \"type\": \"scatter3d\"}], \"scattercarpet\": [{\"marker\": {\"colorbar\": {\"outlinewidth\": 0, \"ticks\": \"\"}}, \"type\": \"scattercarpet\"}], \"scattergeo\": [{\"marker\": {\"colorbar\": {\"outlinewidth\": 0, \"ticks\": \"\"}}, \"type\": \"scattergeo\"}], \"scattergl\": [{\"marker\": {\"colorbar\": {\"outlinewidth\": 0, \"ticks\": \"\"}}, \"type\": \"scattergl\"}], \"scattermapbox\": [{\"marker\": {\"colorbar\": {\"outlinewidth\": 0, \"ticks\": \"\"}}, \"type\": \"scattermapbox\"}], \"scatterpolar\": [{\"marker\": {\"colorbar\": {\"outlinewidth\": 0, \"ticks\": \"\"}}, \"type\": \"scatterpolar\"}], \"scatterpolargl\": [{\"marker\": {\"colorbar\": {\"outlinewidth\": 0, \"ticks\": \"\"}}, \"type\": \"scatterpolargl\"}], \"scatterternary\": [{\"marker\": {\"colorbar\": {\"outlinewidth\": 0, \"ticks\": \"\"}}, \"type\": \"scatterternary\"}], \"surface\": [{\"colorbar\": {\"outlinewidth\": 0, \"ticks\": \"\"}, \"colorscale\": [[0.0, \"#0d0887\"], [0.1111111111111111, \"#46039f\"], [0.2222222222222222, \"#7201a8\"], [0.3333333333333333, \"#9c179e\"], [0.4444444444444444, \"#bd3786\"], [0.5555555555555556, \"#d8576b\"], [0.6666666666666666, \"#ed7953\"], [0.7777777777777778, \"#fb9f3a\"], [0.8888888888888888, \"#fdca26\"], [1.0, \"#f0f921\"]], \"type\": \"surface\"}], \"table\": [{\"cells\": {\"fill\": {\"color\": \"#EBF0F8\"}, \"line\": {\"color\": \"white\"}}, \"header\": {\"fill\": {\"color\": \"#C8D4E3\"}, \"line\": {\"color\": \"white\"}}, \"type\": \"table\"}]}, \"layout\": {\"annotationdefaults\": {\"arrowcolor\": \"#2a3f5f\", \"arrowhead\": 0, \"arrowwidth\": 1}, \"autotypenumbers\": \"strict\", \"coloraxis\": {\"colorbar\": {\"outlinewidth\": 0, \"ticks\": \"\"}}, \"colorscale\": {\"diverging\": [[0, \"#8e0152\"], [0.1, \"#c51b7d\"], [0.2, \"#de77ae\"], [0.3, \"#f1b6da\"], [0.4, \"#fde0ef\"], [0.5, \"#f7f7f7\"], [0.6, \"#e6f5d0\"], [0.7, \"#b8e186\"], [0.8, \"#7fbc41\"], [0.9, \"#4d9221\"], [1, \"#276419\"]], \"sequential\": [[0.0, \"#0d0887\"], [0.1111111111111111, \"#46039f\"], [0.2222222222222222, \"#7201a8\"], [0.3333333333333333, \"#9c179e\"], [0.4444444444444444, \"#bd3786\"], [0.5555555555555556, \"#d8576b\"], [0.6666666666666666, \"#ed7953\"], [0.7777777777777778, \"#fb9f3a\"], [0.8888888888888888, \"#fdca26\"], [1.0, \"#f0f921\"]], \"sequentialminus\": [[0.0, \"#0d0887\"], [0.1111111111111111, \"#46039f\"], [0.2222222222222222, \"#7201a8\"], [0.3333333333333333, \"#9c179e\"], [0.4444444444444444, \"#bd3786\"], [0.5555555555555556, \"#d8576b\"], [0.6666666666666666, \"#ed7953\"], [0.7777777777777778, \"#fb9f3a\"], [0.8888888888888888, \"#fdca26\"], [1.0, \"#f0f921\"]]}, \"colorway\": [\"#636efa\", \"#EF553B\", \"#00cc96\", \"#ab63fa\", \"#FFA15A\", \"#19d3f3\", \"#FF6692\", \"#B6E880\", \"#FF97FF\", \"#FECB52\"], \"font\": {\"color\": \"#2a3f5f\"}, \"geo\": {\"bgcolor\": \"white\", \"lakecolor\": \"white\", \"landcolor\": \"#E5ECF6\", \"showlakes\": true, \"showland\": true, \"subunitcolor\": \"white\"}, \"hoverlabel\": {\"align\": \"left\"}, \"hovermode\": \"closest\", \"mapbox\": {\"style\": \"light\"}, \"paper_bgcolor\": \"white\", \"plot_bgcolor\": \"#E5ECF6\", \"polar\": {\"angularaxis\": {\"gridcolor\": \"white\", \"linecolor\": \"white\", \"ticks\": \"\"}, \"bgcolor\": \"#E5ECF6\", \"radialaxis\": {\"gridcolor\": \"white\", \"linecolor\": \"white\", \"ticks\": \"\"}}, \"scene\": {\"xaxis\": {\"backgroundcolor\": \"#E5ECF6\", \"gridcolor\": \"white\", \"gridwidth\": 2, \"linecolor\": \"white\", \"showbackground\": true, \"ticks\": \"\", \"zerolinecolor\": \"white\"}, \"yaxis\": {\"backgroundcolor\": \"#E5ECF6\", \"gridcolor\": \"white\", \"gridwidth\": 2, \"linecolor\": \"white\", \"showbackground\": true, \"ticks\": \"\", \"zerolinecolor\": \"white\"}, \"zaxis\": {\"backgroundcolor\": \"#E5ECF6\", \"gridcolor\": \"white\", \"gridwidth\": 2, \"linecolor\": \"white\", \"showbackground\": true, \"ticks\": \"\", \"zerolinecolor\": \"white\"}}, \"shapedefaults\": {\"line\": {\"color\": \"#2a3f5f\"}}, \"ternary\": {\"aaxis\": {\"gridcolor\": \"white\", \"linecolor\": \"white\", \"ticks\": \"\"}, \"baxis\": {\"gridcolor\": \"white\", \"linecolor\": \"white\", \"ticks\": \"\"}, \"bgcolor\": \"#E5ECF6\", \"caxis\": {\"gridcolor\": \"white\", \"linecolor\": \"white\", \"ticks\": \"\"}}, \"title\": {\"x\": 0.05}, \"xaxis\": {\"automargin\": true, \"gridcolor\": \"white\", \"linecolor\": \"white\", \"ticks\": \"\", \"title\": {\"standoff\": 15}, \"zerolinecolor\": \"white\", \"zerolinewidth\": 2}, \"yaxis\": {\"automargin\": true, \"gridcolor\": \"white\", \"linecolor\": \"white\", \"ticks\": \"\", \"title\": {\"standoff\": 15}, \"zerolinecolor\": \"white\", \"zerolinewidth\": 2}}}, \"title\": {\"text\": \"Attention 3D map\"}},                        {\"responsive\": true}                    ).then(function(){\n",
       "                            \n",
       "var gd = document.getElementById('cc9e6b28-3e7b-4e30-83cb-f111f6f05d2b');\n",
       "var x = new MutationObserver(function (mutations, observer) {{\n",
       "        var display = window.getComputedStyle(gd).display;\n",
       "        if (!display || display === 'none') {{\n",
       "            console.log([gd, 'removed!']);\n",
       "            Plotly.purge(gd);\n",
       "            observer.disconnect();\n",
       "        }}\n",
       "}});\n",
       "\n",
       "// Listen for the removal of the full notebook cells\n",
       "var notebookContainer = gd.closest('#notebook-container');\n",
       "if (notebookContainer) {{\n",
       "    x.observe(notebookContainer, {childList: true});\n",
       "}}\n",
       "\n",
       "// Listen for the clearing of the current output cell\n",
       "var outputEl = gd.closest('.output');\n",
       "if (outputEl) {{\n",
       "    x.observe(outputEl, {childList: true});\n",
       "}}\n",
       "\n",
       "                        })                };                });            </script>        </div>"
      ]
     },
     "metadata": {},
     "output_type": "display_data"
    }
   ],
   "source": [
    "fig = go.Figure(data=data_plot[0])\n",
    "fig.update_layout(title='Attention 3D map')\n",
    "fig.show()"
   ]
  },
  {
   "cell_type": "code",
   "execution_count": null,
   "metadata": {},
   "outputs": [],
   "source": []
  },
  {
   "cell_type": "markdown",
   "metadata": {},
   "source": [
    "##### Most important words for question"
   ]
  },
  {
   "cell_type": "code",
   "execution_count": 77,
   "metadata": {},
   "outputs": [
    {
     "name": "stderr",
     "output_type": "stream",
     "text": [
      "convert examples to features: 1it [00:00, 66.23it/s]\n"
     ]
    },
    {
     "name": "stdout",
     "output_type": "stream",
     "text": [
      "3 most important words for: a\n",
      "[('sure', 0.37506667), ('nobody', 0.3254553), ('make', 0.26634285)]\n",
      "3 most important words for: discipline\n",
      "[('class', 0.47839275), ('nobody', 0.28838113), ('chat', 0.28794184)]\n",
      "3 most important words for: leader\n",
      "[('nobody', 0.53921396), ('class', 0.51717293), ('chat', 0.43761465)]\n",
      "3 most important words for: is\n",
      "[('sure', 0.78322494), ('make', 0.4561162), ('nobody', 0.4158663)]\n",
      "3 most important words for: supposed\n",
      "[('sure', 0.5143204), ('nobody', 0.49513042), ('make', 0.46454546)]\n",
      "3 most important words for: to\n",
      "[('make', 1.0848705), ('sure', 0.5960057), ('nobody', 0.4418942)]\n"
     ]
    }
   ],
   "source": [
    "atts, tokens, option_start = get_atts(ex, option=2)\n",
    "for word_q in range(option_start):\n",
    "    att_word = np.sum([atts[0][0][i][word_q][option_start:-1] for i in range(len(atts[0][0]))]).detach().numpy()\n",
    "    most_important_ = [(tokens[option_start+i], att_word[i]) for i in att_word.argsort()[::-1][:3]]\n",
    "    print(f\"3 most important words for: {tokens[word_q]}\")\n",
    "    print(most_important_)"
   ]
  },
  {
   "cell_type": "code",
   "execution_count": 76,
   "metadata": {},
   "outputs": [
    {
     "name": "stderr",
     "output_type": "stream",
     "text": [
      "convert examples to features: 1it [00:00, 59.08it/s]\n"
     ]
    },
    {
     "name": "stdout",
     "output_type": "stream",
     "text": [
      "3 most important words for: an\n",
      "[('sure', 0.28402063), ('chat', 0.24966525), ('make', 0.24659507)]\n",
      "3 most important words for: order\n",
      "[('class', 0.41637936), ('nobody', 0.34273064), ('chat', 0.31957448)]\n",
      "3 most important words for: ##liness\n",
      "[('chat', 0.4093988), ('class', 0.36730373), ('nobody', 0.26383477)]\n",
      "3 most important words for: leader\n",
      "[('nobody', 0.51494277), ('class', 0.50157565), ('chat', 0.42535886)]\n",
      "3 most important words for: is\n",
      "[('sure', 0.7545784), ('make', 0.43230242), ('nobody', 0.39854592)]\n",
      "3 most important words for: supposed\n",
      "[('to', 0.90458107), ('sure', 0.5022197), ('nobody', 0.4854677)]\n"
     ]
    }
   ],
   "source": [
    "ex_per = ex.copy()\n",
    "ex_per['question'] = \"An orderliness leader is supposed to _ .\"\n",
    "atts, tokens, option_start = get_atts(ex_per, option=2)\n",
    "for word_q in range(option_start):\n",
    "    att_word = np.sum([atts[0][0][i][word_q][option_start:-1] for i in range(len(atts[0][0]))]).detach().numpy()\n",
    "    most_important_ = [(tokens[option_start+i], att_word[i]) for i in att_word.argsort()[::-1][:3]]\n",
    "    print(f\"3 most important words for: {tokens[word_q]}\")\n",
    "    print(most_important_)"
   ]
  },
  {
   "cell_type": "markdown",
   "metadata": {},
   "source": [
    "##### Attention - Graph"
   ]
  },
  {
   "cell_type": "code",
   "execution_count": 177,
   "metadata": {},
   "outputs": [],
   "source": [
    "def get_full_atts(ex):\n",
    "    examples = [InputExample(\n",
    "        example_id=\"pred\",\n",
    "        question=ex['question'],\n",
    "        contexts=[ex['article'], ex['article'], ex['article'], ex['article']],  # this is not efficient but convenient\n",
    "        endings=[ex['options'][0], ex['options'][1], ex['options'][2], ex['options'][3]],\n",
    "        label=str(ord(ex['answer']) - ord(\"A\")) if ex['answer'] else \"0\"\n",
    "    )]\n",
    "    \n",
    "    feature = convert_examples_to_features(\n",
    "        examples,\n",
    "        label_list,\n",
    "        max_seq_length,\n",
    "        tokenizer\n",
    "    )[0]\n",
    "    \n",
    "    features = {\n",
    "        'input_ids': torch.tensor([feature.input_ids]),\n",
    "        'attention_mask': torch.tensor([feature.attention_mask]),\n",
    "        'token_type_ids': torch.tensor([feature.token_type_ids]),\n",
    "    } \n",
    "    input_id_list = feature.input_ids\n",
    "    tokens = [tokenizer.convert_ids_to_tokens(input_id_list[i]) for i in range(4)] \n",
    "    token_type_ids = feature.token_type_ids\n",
    "    q_starts = [token_type_ids[option].index(1) for option in range(4)]\n",
    "    option_start = len(tokenizer.tokenize(question)[:-2])\n",
    "    \n",
    "    attention = model.forward(features['input_ids'], features['attention_mask'], features['token_type_ids'], \n",
    "                               output_attentions=True, output_hidden_states=True, return_dict=True)['attentions']\n",
    "\n",
    "    return attention, input_id_list, tokens, token_type_ids, q_starts, option_start"
   ]
  },
  {
   "cell_type": "code",
   "execution_count": 179,
   "metadata": {},
   "outputs": [
    {
     "name": "stderr",
     "output_type": "stream",
     "text": [
      "convert examples to features: 1it [00:00, 54.99it/s]\n"
     ]
    }
   ],
   "source": [
    "atts, input_id_list, tokens, token_type_ids, q_starts, option_start = get_full_atts(ex)"
   ]
  },
  {
   "cell_type": "markdown",
   "metadata": {},
   "source": [
    "### Understanding attention "
   ]
  },
  {
   "cell_type": "markdown",
   "metadata": {},
   "source": [
    "#####  Question -> Text -> Options"
   ]
  },
  {
   "cell_type": "code",
   "execution_count": 326,
   "metadata": {},
   "outputs": [
    {
     "name": "stdout",
     "output_type": "stream",
     "text": [
      "Question idxs: (110, 116), Text idxs: (0, 110)\n",
      "Attention sum: 43.835784912109375\n"
     ]
    }
   ],
   "source": [
    "attention_question_text = 0\n",
    "print(f\"Question idxs: {(q_s, q_s+6)}, Text idxs: {(0, q_s)}\")\n",
    "attention_question_text = sum([atts[0][0][head][q_s: q_s+6, :q_s].sum()\n",
    "                               for head in range(12)])\n",
    "print(f\"Attention sum: {attention_question_text}\")"
   ]
  },
  {
   "cell_type": "code",
   "execution_count": 329,
   "metadata": {},
   "outputs": [
    {
     "name": "stdout",
     "output_type": "stream",
     "text": [
      "Option 0 idxs: (114, 120)\n",
      "Attention sum: 17.34185028076172\n",
      "Option 1 idxs: (114, 120)\n",
      "Attention sum: 20.50775146484375\n",
      "Option 2 idxs: (112, 118)\n",
      "Attention sum: 20.639162063598633\n",
      "Option 3 idxs: (110, 116)\n",
      "Attention sum: 23.762786865234375\n"
     ]
    }
   ],
   "source": [
    "attention_options = []\n",
    "for option in range(4):\n",
    "    q_s = q_starts[option]\n",
    "    print(f\"Option {option} idxs: {(q_s, q_s+6)}\")\n",
    "    sum_tmp = sum([atts[0][option][head][:q_s, q_s+6:].sum() for head in range(12)])\n",
    "    print(f\"Attention sum: {sum_tmp}\")\n",
    "    attention_options.append(sum_tmp)"
   ]
  },
  {
   "cell_type": "markdown",
   "metadata": {},
   "source": [
    "##### Question -> Sents -> Options"
   ]
  },
  {
   "cell_type": "code",
   "execution_count": 235,
   "metadata": {},
   "outputs": [
    {
     "name": "stdout",
     "output_type": "stream",
     "text": [
      "38 .\n",
      "52 .\n",
      "60 ?\n",
      "73 !\n",
      "94 .\n",
      "113 [SEP]\n",
      "126 .\n",
      "127 [SEP]\n"
     ]
    }
   ],
   "source": [
    "boundaries = [\".\", \";\", \":\", \"?\", \"!\", \"[SEP]\"]\n",
    "boundaries_idxs = []\n",
    "for i, tok in enumerate(tokens[0]):\n",
    "    if tok in boundaries:\n",
    "        print(i, tok)\n",
    "        boundaries_idxs.append(i)\n",
    "        \n",
    "boundaries_idxs.insert(0, -1)\n",
    "sents = []\n",
    "for i in range(len(boundaries_idxs)-3):\n",
    "    sents.append((boundaries_idxs[i]+1, boundaries_idxs[i+1]+1))\n",
    "    \n",
    "# sents.append((boundaries_idxs[i+1]+1, q_starts[option]))\n",
    "sents"
   ]
  },
  {
   "cell_type": "markdown",
   "metadata": {},
   "source": [
    "##### Gettin sum of attention from question to each sentence"
   ]
  },
  {
   "cell_type": "code",
   "execution_count": 301,
   "metadata": {},
   "outputs": [
    {
     "name": "stdout",
     "output_type": "stream",
     "text": [
      "Question idxs: (114, 120), Sentence 0 idxs: (0, 39)\n",
      "Question idxs: (114, 120), Sentence 1 idxs: (39, 53)\n",
      "Question idxs: (114, 120), Sentence 2 idxs: (53, 61)\n",
      "Question idxs: (114, 120), Sentence 3 idxs: (61, 74)\n",
      "Question idxs: (114, 120), Sentence 4 idxs: (74, 95)\n",
      "Question idxs: (114, 120), Sentence 5 idxs: (95, 114)\n"
     ]
    }
   ],
   "source": [
    "option = 1\n",
    "q_s = q_starts[option]\n",
    "\n",
    "sums_q_sents = []\n",
    "for i in range(len(sents)):\n",
    "    print(f\"Question idxs: {(q_s, q_s+6)}, Sentence {i} idxs: {sents[i]}\")\n",
    "    sum_tmp = sum([atts[0][option][head][q_s: q_s+6, sents[i][0]:sents[i][1]].sum() for head in range(12)])\n",
    "    sums_q_sents.append(sum_tmp)"
   ]
  },
  {
   "cell_type": "code",
   "execution_count": 314,
   "metadata": {},
   "outputs": [
    {
     "name": "stdout",
     "output_type": "stream",
     "text": [
      "Option: 0 -> Question idx start: 114\n",
      "Getting attention for sentence 0, idxs (0, 39)\n",
      "Getting attention for sentence 1, idxs (39, 53)\n",
      "Getting attention for sentence 2, idxs (53, 61)\n",
      "Getting attention for sentence 3, idxs (61, 74)\n",
      "Getting attention for sentence 4, idxs (74, 95)\n",
      "Getting attention for sentence 5, idxs (95, 114)\n",
      "Sums of attentions from sentences to option: \n",
      " [4.9643778800964355, 1.656477928161621, 0.8121659755706787, 1.4482377767562866, 2.566917657852173, 5.8936686515808105]\n",
      "Option: 1 -> Question idx start: 114\n",
      "Getting attention for sentence 0, idxs (0, 39)\n",
      "Getting attention for sentence 1, idxs (39, 53)\n",
      "Getting attention for sentence 2, idxs (53, 61)\n",
      "Getting attention for sentence 3, idxs (61, 74)\n",
      "Getting attention for sentence 4, idxs (74, 95)\n",
      "Getting attention for sentence 5, idxs (95, 114)\n",
      "Sums of attentions from sentences to option: \n",
      " [5.921537399291992, 2.1102805137634277, 1.0417460203170776, 1.7367511987686157, 2.9345648288726807, 6.762868881225586]\n",
      "Option: 2 -> Question idx start: 112\n",
      "Getting attention for sentence 0, idxs (0, 39)\n",
      "Getting attention for sentence 1, idxs (39, 53)\n",
      "Getting attention for sentence 2, idxs (53, 61)\n",
      "Getting attention for sentence 3, idxs (61, 74)\n",
      "Getting attention for sentence 4, idxs (74, 95)\n",
      "Getting attention for sentence 5, idxs (95, 114)\n",
      "Sums of attentions from sentences to option: \n",
      " [6.326493740081787, 2.172316551208496, 1.0766533613204956, 1.8338470458984375, 3.240234613418579, 10.644491195678711]\n",
      "Option: 3 -> Question idx start: 110\n",
      "Getting attention for sentence 0, idxs (0, 39)\n",
      "Getting attention for sentence 1, idxs (39, 53)\n",
      "Getting attention for sentence 2, idxs (53, 61)\n",
      "Getting attention for sentence 3, idxs (61, 74)\n",
      "Getting attention for sentence 4, idxs (74, 95)\n",
      "Getting attention for sentence 5, idxs (95, 114)\n",
      "Sums of attentions from sentences to option: \n",
      " [7.656482696533203, 2.5430238246917725, 1.3248991966247559, 2.1620099544525146, 3.8975181579589844, 17.596210479736328]\n"
     ]
    }
   ],
   "source": [
    "sums_opts = {}\n",
    "\n",
    "for option in range(4):\n",
    "    q_s = q_starts[option]\n",
    "    print(f\"Option: {option} -> Question idx start: {q_s}\")\n",
    "\n",
    "    sums_opt_sents = []\n",
    "    for i in range(len(sents)):\n",
    "        print(f\"Getting attention for sentence {i}, idxs {sents[i]}\")\n",
    "        sum_tmp = sum([atts[0][option][head][sents[i][0]:sents[i][1], q_s+6:].sum() for head in range(12)])\n",
    "        sums_opt_sents.append(sum_tmp)\n",
    "    \n",
    "    print(f\"Sums of attentions from sentences to option: \\n {[m.item() for m in sums_opt_sents]}\")\n",
    "    sums_opts[f\"opt_{option}\"] = sums_opt_sents"
   ]
  },
  {
   "cell_type": "code",
   "execution_count": 315,
   "metadata": {},
   "outputs": [
    {
     "name": "stdout",
     "output_type": "stream",
     "text": [
      "Attentions from Question to sentences:\n",
      "[12.285257339477539, 2.5942118167877197, 1.5213333368301392, 2.3853273391723633, 4.133277416229248, 11.259088516235352]\n"
     ]
    }
   ],
   "source": [
    "q_to_s = [i.item() for i in sums_q_sents]\n",
    "print(f\"Attentions from Question to sentences:\")\n",
    "print(q_to_s)"
   ]
  },
  {
   "cell_type": "code",
   "execution_count": 316,
   "metadata": {},
   "outputs": [
    {
     "name": "stdout",
     "output_type": "stream",
     "text": [
      "Attentions from sentences to option:\n",
      "Sentence 0\n",
      "[4.9643778800964355, 5.921537399291992, 6.326493740081787, 7.656482696533203]\n",
      "Sentence 1\n",
      "[1.656477928161621, 2.1102805137634277, 2.172316551208496, 2.5430238246917725]\n",
      "Sentence 2\n",
      "[0.8121659755706787, 1.0417460203170776, 1.0766533613204956, 1.3248991966247559]\n",
      "Sentence 3\n",
      "[1.4482377767562866, 1.7367511987686157, 1.8338470458984375, 2.1620099544525146]\n",
      "Sentence 4\n",
      "[2.566917657852173, 2.9345648288726807, 3.240234613418579, 3.8975181579589844]\n",
      "Sentence 5\n",
      "[5.8936686515808105, 6.762868881225586, 10.644491195678711, 17.596210479736328]\n"
     ]
    }
   ],
   "source": [
    "s_os = []\n",
    "print(f\"Attentions from sentences to option:\")\n",
    "for i in range(6):\n",
    "    print(f\"Sentence {i}\")\n",
    "    s_tmp = [sums_opts[opt][i].item() for opt in sums_opts]\n",
    "    s_os.append(s_tmp)\n",
    "    print(s_tmp)"
   ]
  },
  {
   "cell_type": "markdown",
   "metadata": {},
   "source": [
    "##### Larger path"
   ]
  },
  {
   "cell_type": "code",
   "execution_count": 319,
   "metadata": {},
   "outputs": [
    {
     "name": "stdout",
     "output_type": "stream",
     "text": [
      "Sent 0. Option 0: 17.249635219573975\n",
      "Sent 0. Option 1: 18.20679473876953\n",
      "Sent 0. Option 2: 18.611751079559326\n",
      "Sent 0. Option 3: 19.941740036010742\n",
      "--------------------------------------------------\n",
      "Sent 1. Option 0: 4.250689744949341\n",
      "Sent 1. Option 1: 4.7044923305511475\n",
      "Sent 1. Option 2: 4.766528367996216\n",
      "Sent 1. Option 3: 5.137235641479492\n",
      "--------------------------------------------------\n",
      "Sent 2. Option 0: 2.333499312400818\n",
      "Sent 2. Option 1: 2.563079357147217\n",
      "Sent 2. Option 2: 2.5979866981506348\n",
      "Sent 2. Option 3: 2.846232533454895\n",
      "--------------------------------------------------\n",
      "Sent 3. Option 0: 3.83356511592865\n",
      "Sent 3. Option 1: 4.122078537940979\n",
      "Sent 3. Option 2: 4.219174385070801\n",
      "Sent 3. Option 3: 4.547337293624878\n",
      "--------------------------------------------------\n",
      "Sent 4. Option 0: 6.700195074081421\n",
      "Sent 4. Option 1: 7.067842245101929\n",
      "Sent 4. Option 2: 7.373512029647827\n",
      "Sent 4. Option 3: 8.030795574188232\n",
      "--------------------------------------------------\n",
      "Sent 5. Option 0: 17.152757167816162\n",
      "Sent 5. Option 1: 18.021957397460938\n",
      "Sent 5. Option 2: 21.903579711914062\n",
      "Sent 5. Option 3: 28.85529899597168\n",
      "--------------------------------------------------\n"
     ]
    }
   ],
   "source": [
    "max_ = 0\n",
    "max_path = {\n",
    "    'sentence': '',\n",
    "    'option': ''\n",
    "}\n",
    "for i in range(len(q_to_s)):\n",
    "    tmp_sum = q_to_s[i]\n",
    "    opt_max = 0\n",
    "    opt_max_idx = 0\n",
    "    for idx, j in enumerate(s_os[i]):\n",
    "        if j > opt_max:\n",
    "            opt_max = j\n",
    "            opt_max_idx = idx\n",
    "        print(f\"Sent {i}. Option {idx}: {tmp_sum + j}\")\n",
    "    tmp_sum += opt_max\n",
    "    if tmp_sum > max_:\n",
    "        max_ = tmp_sum\n",
    "        max_path['sentence'] = i\n",
    "        max_path['option'] = opt_max_idx\n",
    "    print(\"-\"*50)\n",
    "max_path['value'] = max_"
   ]
  },
  {
   "cell_type": "code",
   "execution_count": 320,
   "metadata": {},
   "outputs": [
    {
     "data": {
      "text/plain": [
       "{'sentence': 5, 'option': 3, 'value': 28.85529899597168}"
      ]
     },
     "execution_count": 320,
     "metadata": {},
     "output_type": "execute_result"
    }
   ],
   "source": [
    "max_path"
   ]
  },
  {
   "cell_type": "code",
   "execution_count": null,
   "metadata": {},
   "outputs": [],
   "source": []
  },
  {
   "cell_type": "code",
   "execution_count": null,
   "metadata": {},
   "outputs": [],
   "source": []
  },
  {
   "cell_type": "code",
   "execution_count": 240,
   "metadata": {},
   "outputs": [
    {
     "name": "stdout",
     "output_type": "stream",
     "text": [
      "[CLS] take a class at du ##lang ##kou school , and you ' ll see lots of things different from other schools , you can see the desk ##s are not in rows and students sit in groups .\n",
      "they put their desk ##s together so they ' re facing each other .\n",
      "how can they see the black ##board ?\n",
      "there are three black ##boards on the three walls of the classroom !\n",
      "the school calls the new way of learning \" tu ##ant ##uan ##zu ##o \" , meaning sitting in groups .\n",
      "wei li ##ying , a junior 3 teacher , said it was to give students more chances to [SEP]\n"
     ]
    }
   ],
   "source": [
    "for i in range(len(boundaries_idxs)-3):\n",
    "    print(\" \".join(tokens[0][boundaries_idxs[i]+1:boundaries_idxs[i+1]+1]))"
   ]
  },
  {
   "cell_type": "code",
   "execution_count": 136,
   "metadata": {},
   "outputs": [
    {
     "data": {
      "text/plain": [
       "tensor([[0.0091, 0.0117, 0.0027, 0.0053, 0.0047, 0.0070, 0.0067, 0.0033, 0.0060,\n",
       "         0.0083, 0.0083, 0.0123, 0.0180],\n",
       "        [0.0061, 0.0117, 0.0025, 0.0049, 0.0073, 0.0051, 0.0049, 0.0030, 0.0142,\n",
       "         0.0063, 0.0053, 0.0165, 0.0163],\n",
       "        [0.0063, 0.0106, 0.0032, 0.0069, 0.0055, 0.0066, 0.0053, 0.0035, 0.0078,\n",
       "         0.0064, 0.0058, 0.0112, 0.0246],\n",
       "        [0.0067, 0.0053, 0.0030, 0.0123, 0.0116, 0.0063, 0.0021, 0.0037, 0.0101,\n",
       "         0.0032, 0.0025, 0.0228, 0.0267],\n",
       "        [0.0095, 0.0079, 0.0066, 0.0072, 0.0052, 0.0099, 0.0101, 0.0072, 0.0081,\n",
       "         0.0073, 0.0109, 0.0107, 0.0136],\n",
       "        [0.0043, 0.0177, 0.0018, 0.0033, 0.0133, 0.0032, 0.0014, 0.0021, 0.0120,\n",
       "         0.0025, 0.0015, 0.0172, 0.0238],\n",
       "        [0.0089, 0.0078, 0.0039, 0.0081, 0.0097, 0.0125, 0.0039, 0.0042, 0.0068,\n",
       "         0.0080, 0.0044, 0.0110, 0.0140],\n",
       "        [0.0050, 0.0095, 0.0055, 0.0040, 0.0063, 0.0157, 0.0038, 0.0056, 0.0067,\n",
       "         0.0113, 0.0038, 0.0087, 0.0097]], grad_fn=<SliceBackward>)"
      ]
     },
     "execution_count": 136,
     "metadata": {},
     "output_type": "execute_result"
    }
   ],
   "source": [
    "ases[2]"
   ]
  },
  {
   "cell_type": "code",
   "execution_count": 55,
   "metadata": {},
   "outputs": [
    {
     "data": {
      "text/plain": [
       "[0.007986078038811684,\n",
       " 0.006433010101318359,\n",
       " 0.016517121344804764,\n",
       " 0.009094485081732273,\n",
       " 0.014354814775288105,\n",
       " 0.00633564917370677,\n",
       " 0.009717180393636227,\n",
       " 0.004400583915412426,\n",
       " 0.007701124995946884,\n",
       " 0.007552080787718296,\n",
       " 0.014600632712244987,\n",
       " 0.005736075341701508,\n",
       " 0.0055419872514903545,\n",
       " 0.005400246940553188,\n",
       " 0.008601262234151363,\n",
       " 0.005937308073043823,\n",
       " 0.010113371536135674,\n",
       " 0.005900654476135969,\n",
       " 0.013658925890922546,\n",
       " 0.016021285206079483,\n",
       " 0.015492475591599941,\n",
       " 0.006026331335306168,\n",
       " 0.007072122767567635,\n",
       " 0.004459220916032791,\n",
       " 0.010352755896747112,\n",
       " 0.007686137687414885,\n",
       " 0.01517962571233511,\n",
       " 0.006878224201500416,\n",
       " 0.009533190168440342,\n",
       " 0.0058213393203914165,\n",
       " 0.007195862475782633,\n",
       " 0.009078454226255417,\n",
       " 0.005383834708482027,\n",
       " 0.010277562774717808,\n",
       " 0.003571153385564685,\n",
       " 0.005235304124653339,\n",
       " 0.010028570890426636,\n",
       " 0.004979913122951984,\n",
       " 0.01313966978341341,\n",
       " 0.0044998410157859325,\n",
       " 0.0048428974114358425,\n",
       " 0.007298056501895189,\n",
       " 0.005732205230742693,\n",
       " 0.008995846845209599,\n",
       " 0.004053284414112568,\n",
       " 0.008583677932620049,\n",
       " 0.004623720422387123,\n",
       " 0.004639892838895321,\n",
       " 0.006205284968018532,\n",
       " 0.007227305788546801,\n",
       " 0.010039896704256535,\n",
       " 0.013927667401731014,\n",
       " 0.014707357622683048,\n",
       " 0.005827452056109905,\n",
       " 0.008580896072089672,\n",
       " 0.00488248560577631,\n",
       " 0.006805391516536474,\n",
       " 0.013357756659388542,\n",
       " 0.004219451453536749,\n",
       " 0.004075323231518269,\n",
       " 0.008819601498544216,\n",
       " 0.01007953193038702,\n",
       " 0.005941346287727356,\n",
       " 0.013321013189852238,\n",
       " 0.00478436378762126,\n",
       " 0.004470247309654951,\n",
       " 0.012731299735605717,\n",
       " 0.014650380238890648,\n",
       " 0.013033609837293625,\n",
       " 0.004334295634180307,\n",
       " 0.008412581868469715,\n",
       " 0.014141103252768517,\n",
       " 0.006044979207217693,\n",
       " 0.004627116955816746,\n",
       " 0.015052767470479012,\n",
       " 0.0064801909029483795,\n",
       " 0.00622694194316864,\n",
       " 0.015018605627119541,\n",
       " 0.0053209117613732815,\n",
       " 0.00604805676266551,\n",
       " 0.009153023362159729,\n",
       " 0.005872843787074089,\n",
       " 0.004556077532470226,\n",
       " 0.007386067416518927,\n",
       " 0.0057404059916734695,\n",
       " 0.004460111726075411,\n",
       " 0.0029513579793274403,\n",
       " 0.00393035588786006,\n",
       " 0.004271823912858963,\n",
       " 0.0055852062068879604,\n",
       " 0.005457503255456686,\n",
       " 0.008706177584826946,\n",
       " 0.00871372316032648,\n",
       " 0.004746447782963514,\n",
       " 0.012116550467908382,\n",
       " 0.0028605833649635315,\n",
       " 0.004706169944256544,\n",
       " 0.0042638229206204414,\n",
       " 0.004696989431977272,\n",
       " 0.0138985775411129,\n",
       " 0.00437551224604249,\n",
       " 0.008474946953356266,\n",
       " 0.008199411444365978,\n",
       " 0.004867718555033207,\n",
       " 0.005023714154958725,\n",
       " 0.007832244969904423,\n",
       " 0.0037667439319193363,\n",
       " 0.013755285181105137,\n",
       " 0.0051737274043262005,\n",
       " 0.0030831322073936462,\n",
       " 0.008145980536937714,\n",
       " 0.0036333268508315086,\n",
       " 0.01238998118788004,\n",
       " 0.024131186306476593,\n",
       " 0.00898053403943777,\n",
       " 0.0030577669385820627,\n",
       " 0.004691463895142078,\n",
       " 0.003008520696312189,\n",
       " 0.0029203540179878473,\n",
       " 0.009867862798273563,\n",
       " 0.0035957058425992727,\n",
       " 0.0029495619237422943,\n",
       " 0.004904718603938818,\n",
       " 0.00882686022669077,\n",
       " 0.005607628729194403,\n",
       " 0.005318599287420511,\n",
       " 0.008947907015681267,\n",
       " 0.0187356099486351]"
      ]
     },
     "execution_count": 55,
     "metadata": {},
     "output_type": "execute_result"
    }
   ],
   "source": [
    "head = 0\n",
    "option = 0\n",
    "[atts[0][option][head][0][i].item() for i in range(128)]"
   ]
  },
  {
   "cell_type": "code",
   "execution_count": 65,
   "metadata": {},
   "outputs": [
    {
     "data": {
      "text/plain": [
       "['[CLS]',\n",
       " 'take',\n",
       " 'a',\n",
       " 'class',\n",
       " 'at',\n",
       " 'du',\n",
       " '##lang',\n",
       " '##kou',\n",
       " 'school',\n",
       " ',',\n",
       " 'and',\n",
       " 'you',\n",
       " \"'\",\n",
       " 'll',\n",
       " 'see',\n",
       " 'lots',\n",
       " 'of',\n",
       " 'things',\n",
       " 'different',\n",
       " 'from',\n",
       " 'other',\n",
       " 'schools',\n",
       " ',',\n",
       " 'you',\n",
       " 'can',\n",
       " 'see',\n",
       " 'the',\n",
       " 'desk',\n",
       " '##s',\n",
       " 'are',\n",
       " 'not',\n",
       " 'in',\n",
       " 'rows',\n",
       " 'and',\n",
       " 'students',\n",
       " 'sit',\n",
       " 'in',\n",
       " 'groups',\n",
       " '.',\n",
       " 'they',\n",
       " 'put',\n",
       " 'their',\n",
       " 'desk',\n",
       " '##s',\n",
       " 'together',\n",
       " 'so',\n",
       " 'they',\n",
       " \"'\",\n",
       " 're',\n",
       " 'facing',\n",
       " 'each',\n",
       " 'other',\n",
       " '.',\n",
       " 'how',\n",
       " 'can',\n",
       " 'they',\n",
       " 'see',\n",
       " 'the',\n",
       " 'black',\n",
       " '##board',\n",
       " '?',\n",
       " 'there',\n",
       " 'are',\n",
       " 'three',\n",
       " 'black',\n",
       " '##boards',\n",
       " 'on',\n",
       " 'the',\n",
       " 'three',\n",
       " 'walls',\n",
       " 'of',\n",
       " 'the',\n",
       " 'classroom',\n",
       " '!',\n",
       " 'the',\n",
       " 'school',\n",
       " 'calls',\n",
       " 'the',\n",
       " 'new',\n",
       " 'way',\n",
       " 'of',\n",
       " 'learning',\n",
       " '\"',\n",
       " 'tu',\n",
       " '##ant',\n",
       " '##uan',\n",
       " '##zu',\n",
       " '##o',\n",
       " '\"',\n",
       " ',',\n",
       " 'meaning',\n",
       " 'sitting',\n",
       " 'in',\n",
       " 'groups',\n",
       " '.',\n",
       " 'wei',\n",
       " 'li',\n",
       " '##ying',\n",
       " ',',\n",
       " 'a',\n",
       " 'junior',\n",
       " '3',\n",
       " 'teacher',\n",
       " ',',\n",
       " 'said',\n",
       " 'it',\n",
       " 'was',\n",
       " 'to',\n",
       " 'give',\n",
       " 'students',\n",
       " 'more',\n",
       " 'chances',\n",
       " 'to',\n",
       " '[SEP]',\n",
       " 'a',\n",
       " 'discipline',\n",
       " 'leader',\n",
       " 'is',\n",
       " 'supposed',\n",
       " 'to',\n",
       " 'take',\n",
       " 'care',\n",
       " 'of',\n",
       " 'the',\n",
       " 'whole',\n",
       " 'group',\n",
       " '.',\n",
       " '[SEP]']"
      ]
     },
     "execution_count": 65,
     "metadata": {},
     "output_type": "execute_result"
    }
   ],
   "source": [
    "tokens[0]"
   ]
  }
 ],
 "metadata": {
  "kernelspec": {
   "display_name": "Python [conda env:TFM]",
   "language": "python",
   "name": "conda-env-TFM-py"
  },
  "language_info": {
   "codemirror_mode": {
    "name": "ipython",
    "version": 3
   },
   "file_extension": ".py",
   "mimetype": "text/x-python",
   "name": "python",
   "nbconvert_exporter": "python",
   "pygments_lexer": "ipython3",
   "version": "3.8.5"
  },
  "pycharm": {
   "stem_cell": {
    "cell_type": "raw",
    "metadata": {
     "collapsed": false
    },
    "source": []
   }
  }
 },
 "nbformat": 4,
 "nbformat_minor": 1
}
