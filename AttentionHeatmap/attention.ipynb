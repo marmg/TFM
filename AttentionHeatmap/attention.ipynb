{
 "cells": [
  {
   "cell_type": "code",
   "execution_count": 1,
   "metadata": {},
   "outputs": [],
   "source": [
    "import matplotlib\n",
    "import numpy as np\n",
    "\n",
    "import matplotlib.pyplot as plt  # drawing heat map of attention weights\n",
    "\n",
    "plt.rcParams['font.sans-serif'] = ['SimSun']  # set font family"
   ]
  },
  {
   "cell_type": "code",
   "execution_count": 2,
   "metadata": {},
   "outputs": [],
   "source": [
    "import pickle as pkl\n",
    "\n",
    "import numpy as np\n",
    "import torch\n",
    "\n",
    "from transformers import AutoModelForMultipleChoice, AutoTokenizer\n",
    "from datasets import load_dataset\n",
    "\n",
    "from src.utils_multiple_choice import convert_examples_to_features, InputExample"
   ]
  },
  {
   "cell_type": "code",
   "execution_count": 3,
   "metadata": {},
   "outputs": [],
   "source": [
    "def softmax(x):\n",
    "    \"\"\"Compute softmax values for each sets of scores in x.\"\"\"\n",
    "    e_x = np.exp(x - np.max(x))\n",
    "    return e_x / e_x.sum()"
   ]
  },
  {
   "cell_type": "code",
   "execution_count": 4,
   "metadata": {},
   "outputs": [
    {
     "name": "stderr",
     "output_type": "stream",
     "text": [
      "Reusing dataset race (/home/marcos/.cache/huggingface/datasets/race/middle/0.1.0/a7d1fac780e70c0e75bca35e9f2f8cfc1411edd18ffd6858ddce56f70dfb1e7c)\n"
     ]
    }
   ],
   "source": [
    "# Change path to local model\n",
    "model_path = \"../assets/models/bb_race_m/\"\n",
    "\n",
    "model = AutoModelForMultipleChoice.from_pretrained(model_path)\n",
    "tokenizer = AutoTokenizer.from_pretrained(model_path)\n",
    "\n",
    "dataset = load_dataset(\"race\", \"middle\")\n",
    "test = dataset['test']\n",
    "\n",
    "label_list = [\"0\", \"1\", \"2\", \"3\"]\n",
    "label_map = {\n",
    "    0: \"A\",\n",
    "    1: \"B\",\n",
    "    2: \"C\",\n",
    "    3: \"D\"\n",
    "}\n",
    "max_seq_length = 128"
   ]
  },
  {
   "cell_type": "code",
   "execution_count": 5,
   "metadata": {},
   "outputs": [],
   "source": [
    "def predict(article, question, options, real_label=None, return_result=False):\n",
    "    examples = [InputExample(\n",
    "        example_id=\"pred\",\n",
    "        question=question,\n",
    "        contexts=[article, article, article, article],  # this is not efficient but convenient\n",
    "        endings=[options[0], options[1], options[2], options[3]],\n",
    "        label=str(ord(real_label) - ord(\"A\")) if real_label else \"0\"\n",
    "    )]\n",
    "    \n",
    "    feature = convert_examples_to_features(\n",
    "        examples,\n",
    "        label_list,\n",
    "        max_seq_length,\n",
    "        tokenizer\n",
    "    )[0]\n",
    "    \n",
    "    features = {\n",
    "        'input_ids': torch.tensor([feature.input_ids]),\n",
    "        'attention_mask': torch.tensor([feature.attention_mask]),\n",
    "        'token_type_ids': torch.tensor([feature.token_type_ids]),\n",
    "    } \n",
    "    \n",
    "    if return_result:\n",
    "        result = model.forward(features['input_ids'], features['attention_mask'], features['token_type_ids'], \n",
    "                               output_attentions=True, output_hidden_states=True, return_dict=True)\n",
    "        return result\n",
    "    else:\n",
    "        result = model.forward(features['input_ids'], features['attention_mask'], features['token_type_ids'])[0][0]\n",
    "        return np.array([float(abs(x)) for x in result]).argmax()"
   ]
  },
  {
   "cell_type": "code",
   "execution_count": 6,
   "metadata": {},
   "outputs": [],
   "source": [
    "def plot_heatmap(ex):\n",
    "    for option in range(4):\n",
    "        atts, tokens, option_start = get_atts(ex, option=option)\n",
    "        data = []\n",
    "        for word_q in range(option_start):\n",
    "            data.append(np.sum([atts[0][0][i][word_q][option_start:-1] for i in range(len(atts[0][0]))]).detach().numpy())\n",
    "\n",
    "        data = np.array(data)\n",
    "\n",
    "        fig, ax = plt.subplots(figsize=(20, 8))  # set figure size\n",
    "        heatmap = ax.pcolor(data, cmap=plt.cm.Blues, alpha=0.9)\n",
    "\n",
    "        X_label = tokens[option_start:]\n",
    "        xticks = range(0, len(X_label))\n",
    "        ax.set_xticks(xticks, minor=False)  # major ticks\n",
    "        ax.set_xticklabels(X_label, minor=False, rotation=45)  # labels should be 'unicode'\n",
    "\n",
    "        Y_label = tokens[:option_start]\n",
    "        yticks = range(0, len(Y_label))\n",
    "        ax.set_yticks(yticks, minor=False)\n",
    "        ax.set_yticklabels(Y_label, minor=False)  # labels should be 'unicode'\n",
    "\n",
    "        ax.grid(True)\n",
    "\n",
    "        plt.title(f'Attention Heatmap for Option {option}')\n",
    "        plt.show()\n"
   ]
  },
  {
   "cell_type": "code",
   "execution_count": 7,
   "metadata": {
    "pycharm": {
     "name": "#%%\n"
    }
   },
   "outputs": [],
   "source": [
    "def get_atts(ex, option):\n",
    "    examples = [InputExample(\n",
    "        example_id=\"pred\",\n",
    "        question=ex['question'],\n",
    "        contexts=[ex['article'], ex['article'], ex['article'], ex['article']],  # this is not efficient but convenient\n",
    "        endings=[ex['options'][0], ex['options'][1], ex['options'][2], ex['options'][3]],\n",
    "        label=str(ord(ex['answer']) - ord(\"A\")) if ex['answer'] else \"0\"\n",
    "    )]\n",
    "    \n",
    "    feature = convert_examples_to_features(\n",
    "        examples,\n",
    "        label_list,\n",
    "        max_seq_length,\n",
    "        tokenizer\n",
    "    )[0]\n",
    "    \n",
    "    features = {\n",
    "        'input_ids': torch.tensor([feature.input_ids]),\n",
    "        'attention_mask': torch.tensor([feature.attention_mask]),\n",
    "        'token_type_ids': torch.tensor([feature.token_type_ids]),\n",
    "    } \n",
    "    input_id_list = feature.input_ids[option]\n",
    "    tokens = tokenizer.convert_ids_to_tokens(input_id_list) \n",
    "    token_type_ids = feature.token_type_ids\n",
    "    \n",
    "    attention = model.forward(features['input_ids'], features['attention_mask'], features['token_type_ids'], \n",
    "                               output_attentions=True, output_hidden_states=True, return_dict=True)['attentions']\n",
    "    \n",
    "    q_start = token_type_ids[option].index(1)\n",
    "    option_start = len(tokenizer.tokenize(ex['question'])[:-2])\n",
    "    tokens_ = tokens[q_start:]\n",
    "    atts = []\n",
    "    for att in attention:\n",
    "\n",
    "        atts.append(att[option].reshape(1, 12, 128, 128)[:, :, q_start:, q_start:])\n",
    "\n",
    "    return atts, tokens_, option_start"
   ]
  },
  {
   "cell_type": "markdown",
   "metadata": {},
   "source": [
    "### Example 1"
   ]
  },
  {
   "cell_type": "code",
   "execution_count": 8,
   "metadata": {},
   "outputs": [
    {
     "name": "stderr",
     "output_type": "stream",
     "text": [
      "convert examples to features: 1it [00:00, 70.41it/s]\n"
     ]
    },
    {
     "name": "stdout",
     "output_type": "stream",
     "text": [
      "Question: A discipline leader is supposed to  _  .\n",
      "Options: ['take care of the whole group', 'make sure that everybody finishes homework', 'make sure that nobody chats in class', 'collect all the homework and hand it in to teachers']\n",
      "Result: C\n"
     ]
    }
   ],
   "source": [
    "ex1 = test[0]\n",
    "\n",
    "ex1_article = ex1['article']\n",
    "ex1_question = ex1['question']\n",
    "ex1_options = ex1['options']\n",
    "ex1_real_label = ex1['answer']\n",
    "\n",
    "result = predict(ex1_article, ex1_question, ex1_options, ex1_real_label)\n",
    "print(f\"Question: {ex1_question}\")\n",
    "print(f\"Options: {ex1_options}\")\n",
    "print(f\"Result: {label_map[result]}\")"
   ]
  },
  {
   "cell_type": "code",
   "execution_count": 9,
   "metadata": {},
   "outputs": [
    {
     "name": "stderr",
     "output_type": "stream",
     "text": [
      "convert examples to features: 1it [00:00, 56.81it/s]\n"
     ]
    }
   ],
   "source": [
    "result = predict(ex1_article, ex1_question, ex1_options, ex1_real_label, return_result=True)"
   ]
  },
  {
   "cell_type": "markdown",
   "metadata": {},
   "source": [
    "##### Modification A"
   ]
  },
  {
   "cell_type": "code",
   "execution_count": 10,
   "metadata": {},
   "outputs": [
    {
     "name": "stderr",
     "output_type": "stream",
     "text": [
      "convert examples to features: 1it [00:00, 83.93it/s]\n"
     ]
    },
    {
     "name": "stdout",
     "output_type": "stream",
     "text": [
      "Question: What is a discipline leader supposed to?\n",
      "Options: ['take care of the whole group', 'make sure that everybody finishes homework', 'make sure that nobody chats in class', 'collect all the homework and hand it in to teachers']\n",
      "Result: A\n"
     ]
    }
   ],
   "source": [
    "ex1_modA_question = \"What is a discipline leader supposed to?\"\n",
    "\n",
    "result = predict(ex1_article, ex1_modA_question, ex1_options, ex1_real_label)\n",
    "print(f\"Question: {ex1_modA_question}\")\n",
    "print(f\"Options: {ex1_options}\")\n",
    "print(f\"Result: {label_map[result]}\")\n",
    "\n",
    "ex1_mod_a = {\n",
    "    'article': ex1_article,\n",
    "    'question': ex1_modA_question,\n",
    "    'options': ex1_options,\n",
    "    'answer': ex1_real_label\n",
    "}"
   ]
  },
  {
   "cell_type": "markdown",
   "metadata": {},
   "source": [
    "##### Modification B"
   ]
  },
  {
   "cell_type": "code",
   "execution_count": 11,
   "metadata": {},
   "outputs": [
    {
     "name": "stderr",
     "output_type": "stream",
     "text": [
      "convert examples to features: 1it [00:00, 81.56it/s]\n"
     ]
    },
    {
     "name": "stdout",
     "output_type": "stream",
     "text": [
      "Question: What is a discipline leader?\n",
      "Options: ['A person supposed to take care of the whole group', 'A person supposed to make sure that everybody finished homework', 'A person supposed to make sure that nobody chats in class', 'A person supposed to collect all the homework and hand it in to teachers']\n",
      "Result: B\n"
     ]
    }
   ],
   "source": [
    "ex1_modB_question = \"What is a discipline leader?\"\n",
    "ex1_modB_options = [\n",
    "    \"A person supposed to take care of the whole group\",\n",
    "    \"A person supposed to make sure that everybody finished homework\",\n",
    "    \"A person supposed to make sure that nobody chats in class\",\n",
    "    \"A person supposed to collect all the homework and hand it in to teachers\"\n",
    "]\n",
    "\n",
    "result = predict(ex1_article, ex1_modB_question, ex1_modB_options, ex1_real_label)\n",
    "print(f\"Question: {ex1_modB_question}\")\n",
    "print(f\"Options: {ex1_modB_options}\")\n",
    "print(f\"Result: {label_map[result]}\")\n",
    "\n",
    "ex1_mod_b = {\n",
    "    'article': ex1_article,\n",
    "    'question': ex1_modB_question,\n",
    "    'options': ex1_modB_options,\n",
    "    'answer': ex1_real_label\n",
    "}"
   ]
  },
  {
   "cell_type": "markdown",
   "metadata": {},
   "source": [
    "##### Modification C"
   ]
  },
  {
   "cell_type": "code",
   "execution_count": 12,
   "metadata": {},
   "outputs": [
    {
     "name": "stderr",
     "output_type": "stream",
     "text": [
      "convert examples to features: 1it [00:00, 82.22it/s]\n"
     ]
    },
    {
     "name": "stdout",
     "output_type": "stream",
     "text": [
      "Question: What is an orderliness leader?\n",
      "Options: ['A person supposed to take care of the whole group', 'A person supposed to make sure that everybody finished homework', 'A person supposed to make sure that nobody chats in class', 'A person supposed to collect all the homework and hand it in to teachers']\n",
      "Result: C\n"
     ]
    }
   ],
   "source": [
    "ex1_modC_question = \"What is an orderliness leader?\"\n",
    "ex1_modC_options = [\n",
    "    \"A person supposed to take care of the whole group\",\n",
    "    \"A person supposed to make sure that everybody finished homework\",\n",
    "    \"A person supposed to make sure that nobody chats in class\",\n",
    "    \"A person supposed to collect all the homework and hand it in to teachers\"\n",
    "]\n",
    "result = predict(ex1_article, ex1_modC_question, ex1_modC_options, ex1_real_label)\n",
    "print(f\"Question: {ex1_modC_question}\")\n",
    "print(f\"Options: {ex1_modC_options}\")\n",
    "print(f\"Result: {label_map[result]}\")\n",
    "\n",
    "ex1_mod_c = {\n",
    "    'article': ex1_article,\n",
    "    'question': ex1_modC_question,\n",
    "    'options': ex1_modC_options,\n",
    "    'answer': ex1_real_label\n",
    "}"
   ]
  },
  {
   "cell_type": "markdown",
   "metadata": {},
   "source": [
    "### Example 2"
   ]
  },
  {
   "cell_type": "code",
   "execution_count": 13,
   "metadata": {},
   "outputs": [
    {
     "name": "stderr",
     "output_type": "stream",
     "text": [
      "convert examples to features: 1it [00:00, 99.05it/s]\n"
     ]
    },
    {
     "name": "stdout",
     "output_type": "stream",
     "text": [
      "Question: Where did the traveler come from?\n",
      "Options: ['England', 'America', 'Canada', 'France']\n",
      "Real answer: B\n"
     ]
    }
   ],
   "source": [
    "ex2 = test[86]\n",
    "\n",
    "ex2_article = ex2['article']\n",
    "ex2_question = ex2['question']\n",
    "ex2_options = ex2['options']\n",
    "ex2_real_label = ex2['answer']\n",
    "\n",
    "result = predict(ex2_article, ex2_question, ex2_options, ex2_real_label)\n",
    "print(f\"Question: {ex2_question}\")\n",
    "print(f\"Options: {ex2_options}\")\n",
    "print(f\"Real answer: {ex2_real_label}\")"
   ]
  },
  {
   "cell_type": "markdown",
   "metadata": {},
   "source": [
    "##### Mod a"
   ]
  },
  {
   "cell_type": "code",
   "execution_count": 14,
   "metadata": {},
   "outputs": [
    {
     "name": "stderr",
     "output_type": "stream",
     "text": [
      "convert examples to features: 1it [00:00, 99.79it/s]\n"
     ]
    },
    {
     "name": "stdout",
     "output_type": "stream",
     "text": [
      "Question: The traveler came from _ .\n",
      "Options: ['England', 'America', 'Canada', 'France']\n",
      "Result: C\n"
     ]
    }
   ],
   "source": [
    "ex2_modA_question = \"The traveler came from _ .\"\n",
    "\n",
    "result = predict(ex2_article, ex2_modA_question, ex2_options, ex2_real_label)\n",
    "print(f\"Question: {ex2_modA_question}\")\n",
    "print(f\"Options: {ex2_options}\")\n",
    "print(f\"Result: {label_map[result]}\")\n",
    "\n",
    "ex2_mod_a = {\n",
    "    'article': ex2_article,\n",
    "    'question': ex2_modA_question,\n",
    "    'options': ex2_options,\n",
    "    'answer': ex2_real_label\n",
    "}"
   ]
  },
  {
   "cell_type": "markdown",
   "metadata": {},
   "source": [
    "##### Mod b"
   ]
  },
  {
   "cell_type": "code",
   "execution_count": 15,
   "metadata": {},
   "outputs": [
    {
     "name": "stderr",
     "output_type": "stream",
     "text": [
      "convert examples to features: 1it [00:00, 98.26it/s]\n"
     ]
    },
    {
     "name": "stdout",
     "output_type": "stream",
     "text": [
      "Question: The traveler _ .\n",
      "Options: ['came from England', 'came from America', 'came from Canada', 'came from France']\n",
      "Result: C\n"
     ]
    }
   ],
   "source": [
    "ex2_modB_question = \"The traveler _ .\"\n",
    "ex2_modB_options = [\n",
    "    \"came from England\",\n",
    "    \"came from America\",\n",
    "    \"came from Canada\",\n",
    "    \"came from France\"\n",
    "]\n",
    "\n",
    "result = predict(ex2_article, ex2_modB_question, ex2_modB_options, ex2_real_label)\n",
    "print(f\"Question: {ex2_modB_question}\")\n",
    "print(f\"Options: {ex2_modB_options}\")\n",
    "print(f\"Result: {label_map[result]}\")\n",
    "\n",
    "ex2_mod_b = {\n",
    "    'article': ex2_article,\n",
    "    'question': ex2_modB_question,\n",
    "    'options': ex2_modB_options,\n",
    "    'answer': ex2_real_label\n",
    "}"
   ]
  },
  {
   "cell_type": "markdown",
   "metadata": {},
   "source": [
    "##### Mod c"
   ]
  },
  {
   "cell_type": "code",
   "execution_count": 16,
   "metadata": {},
   "outputs": [
    {
     "name": "stderr",
     "output_type": "stream",
     "text": [
      "convert examples to features: 1it [00:00, 99.41it/s]\n"
     ]
    },
    {
     "name": "stdout",
     "output_type": "stream",
     "text": [
      "Question: The visitor _ .\n",
      "Options: ['came from England', 'came from America', 'came from Canada', 'came from France']\n",
      "Result: C\n"
     ]
    }
   ],
   "source": [
    "ex2_modC_question = \"The visitor _ .\"\n",
    "ex2_modC_options = [\n",
    "    \"came from England\",\n",
    "    \"came from America\",\n",
    "    \"came from Canada\",\n",
    "    \"came from France\"\n",
    "]\n",
    "\n",
    "result = predict(ex2_article, ex2_modC_question, ex2_modC_options, ex2_real_label)\n",
    "print(f\"Question: {ex2_modC_question}\")\n",
    "print(f\"Options: {ex2_modC_options}\")\n",
    "print(f\"Result: {label_map[result]}\")\n",
    "\n",
    "ex2_mod_c = {\n",
    "    'article': ex2_article,\n",
    "    'question': ex2_modC_question,\n",
    "    'options': ex2_modC_options,\n",
    "    'answer': ex2_real_label\n",
    "}"
   ]
  },
  {
   "cell_type": "markdown",
   "metadata": {},
   "source": [
    "### Example 3"
   ]
  },
  {
   "cell_type": "code",
   "execution_count": 17,
   "metadata": {},
   "outputs": [
    {
     "name": "stderr",
     "output_type": "stream",
     "text": [
      "convert examples to features: 1it [00:00, 170.71it/s]\n"
     ]
    },
    {
     "name": "stdout",
     "output_type": "stream",
     "text": [
      "Article: It's the second time for me to come to Beijing. There are many places of interest in Beijing, such as the Summer Palace, the Great Wall, etc. What's more, I think great changes have taken place in Beijing. People's living conditions have improved a lot. Their life is very happy. Almost everyone has a big smile on the face. People in Beijing are in high spirits and hard-working. Children can receive a good education.\n",
      "But in the past, some children didn't have enough money to go to school. They often worked for cruel bosses. The bosses didn't give them enough food. I feel sorry for them. Today people have already lived in tall building, worn beautiful clothes and so on. Life has changed greatly.\n",
      "Question: In the past, children had   _   education.\n",
      "Options: ['enough', 'high', 'good', 'bad']\n",
      "Prediction: D\n",
      "Real answer: D\n"
     ]
    }
   ],
   "source": [
    "ex3 = test[17]\n",
    "\n",
    "ex3_article = ex3['article']\n",
    "ex3_question = ex3['question']\n",
    "ex3_options = ex3['options']\n",
    "ex3_real_label = ex3['answer']\n",
    "\n",
    "result = predict(ex3_article, ex3_question, ex3_options, ex3_real_label)\n",
    "print(f\"Article: {ex3_article}\")\n",
    "print(f\"Question: {ex3_question}\")\n",
    "print(f\"Options: {ex3_options}\")\n",
    "print(f\"Prediction: {label_map[result]}\")\n",
    "print(f\"Real answer: {ex3_real_label}\")"
   ]
  },
  {
   "cell_type": "markdown",
   "metadata": {},
   "source": [
    "##### Mod a"
   ]
  },
  {
   "cell_type": "code",
   "execution_count": 18,
   "metadata": {},
   "outputs": [
    {
     "name": "stderr",
     "output_type": "stream",
     "text": [
      "convert examples to features: 1it [00:00, 171.23it/s]\n"
     ]
    },
    {
     "name": "stdout",
     "output_type": "stream",
     "text": [
      "Question: How was the children education in the past?\n",
      "Options: ['enough', 'high', 'good', 'bad']\n",
      "Result: D\n"
     ]
    }
   ],
   "source": [
    "ex3_modA_question = \"How was the children education in the past?\"\n",
    "\n",
    "result = predict(ex3_article, ex3_modA_question, ex3_options, ex3_real_label)\n",
    "print(f\"Question: {ex3_modA_question}\")\n",
    "print(f\"Options: {ex3_options}\")\n",
    "print(f\"Result: {label_map[result]}\")\n",
    "\n",
    "ex3_mod_a = {\n",
    "    'article': ex3_article,\n",
    "    'question': ex3_modA_question,\n",
    "    'options': ex3_options,\n",
    "    'answer': ex3_real_label\n",
    "}"
   ]
  },
  {
   "cell_type": "markdown",
   "metadata": {},
   "source": [
    "##### Mod b"
   ]
  },
  {
   "cell_type": "code",
   "execution_count": 19,
   "metadata": {},
   "outputs": [
    {
     "name": "stderr",
     "output_type": "stream",
     "text": [
      "convert examples to features: 1it [00:00, 168.93it/s]\n"
     ]
    },
    {
     "name": "stdout",
     "output_type": "stream",
     "text": [
      "Question: In the past, children had _ .\n",
      "Options: ['enough education', 'high education', 'good education', 'bad education']\n",
      "Result: D\n"
     ]
    }
   ],
   "source": [
    "ex3_modB_question = \"In the past, children had _ .\"\n",
    "ex3_modB_options = [\n",
    " \"enough education\",\n",
    " \"high education\",\n",
    " \"good education\",\n",
    " \"bad education\"\n",
    "]\n",
    "\n",
    "result = predict(ex3_article, ex3_modB_question, ex3_modB_options, ex3_real_label)\n",
    "print(f\"Question: {ex3_modB_question}\")\n",
    "print(f\"Options: {ex3_modB_options}\")\n",
    "print(f\"Result: {label_map[result]}\")\n",
    "\n",
    "ex3_mod_b = {\n",
    "    'article': ex3_article,\n",
    "    'question': ex3_modB_question,\n",
    "    'options': ex3_modB_options,\n",
    "    'answer': ex3_real_label\n",
    "}"
   ]
  },
  {
   "cell_type": "markdown",
   "metadata": {},
   "source": [
    "##### Mod c"
   ]
  },
  {
   "cell_type": "code",
   "execution_count": 20,
   "metadata": {},
   "outputs": [
    {
     "name": "stderr",
     "output_type": "stream",
     "text": [
      "convert examples to features: 1it [00:00, 165.70it/s]\n"
     ]
    },
    {
     "name": "stdout",
     "output_type": "stream",
     "text": [
      "Question: In the past, kids had _ .\n",
      "Options: ['enough education', 'high education', 'good education', 'bad education']\n",
      "Result: D\n"
     ]
    }
   ],
   "source": [
    "ex3_modC_question = \"In the past, kids had _ .\"\n",
    "ex3_modC_options = [\n",
    " \"enough education\",\n",
    " \"high education\",\n",
    " \"good education\",\n",
    " \"bad education\"\n",
    "]\n",
    "\n",
    "result = predict(ex3_article, ex3_modC_question, ex3_modC_options, ex3_real_label)\n",
    "print(f\"Question: {ex3_modC_question}\")\n",
    "print(f\"Options: {ex3_modC_options}\")\n",
    "print(f\"Result: {label_map[result]}\")\n",
    "\n",
    "ex2_mod_c = {\n",
    "    'article': ex3_article,\n",
    "    'question': ex3_modC_question,\n",
    "    'options': ex3_modC_options,\n",
    "    'answer': ex3_real_label\n",
    "}"
   ]
  },
  {
   "cell_type": "markdown",
   "metadata": {},
   "source": [
    "### Visualization"
   ]
  },
  {
   "cell_type": "code",
   "execution_count": 21,
   "metadata": {
    "scrolled": false
   },
   "outputs": [
    {
     "name": "stderr",
     "output_type": "stream",
     "text": [
      "convert examples to features: 1it [00:00, 83.31it/s]\n",
      "findfont: Font family ['sans-serif'] not found. Falling back to DejaVu Sans.\n",
      "findfont: Font family ['sans-serif'] not found. Falling back to DejaVu Sans.\n"
     ]
    },
    {
     "data": {
      "image/png": "[encoded data removed]",
      "text/plain": [
       "<Figure size 1440x576 with 1 Axes>"
      ]
     },
     "metadata": {
      "needs_background": "light"
     },
     "output_type": "display_data"
    },
    {
     "name": "stderr",
     "output_type": "stream",
     "text": [
      "convert examples to features: 1it [00:00, 82.98it/s]\n"
     ]
    },
    {
     "data": {
      "image/png": "[encoded data removed]",
      "text/plain": [
       "<Figure size 1440x576 with 1 Axes>"
      ]
     },
     "metadata": {
      "needs_background": "light"
     },
     "output_type": "display_data"
    },
    {
     "name": "stderr",
     "output_type": "stream",
     "text": [
      "convert examples to features: 1it [00:00, 79.79it/s]\n"
     ]
    },
    {
     "data": {
      "image/png": "[encoded data removed]",
      "text/plain": [
       "<Figure size 1440x576 with 1 Axes>"
      ]
     },
     "metadata": {
      "needs_background": "light"
     },
     "output_type": "display_data"
    },
    {
     "name": "stderr",
     "output_type": "stream",
     "text": [
      "convert examples to features: 1it [00:00, 83.00it/s]\n"
     ]
    },
    {
     "data": {
      "image/png": "[encoded data removed]",
      "text/plain": [
       "<Figure size 1440x576 with 1 Axes>"
      ]
     },
     "metadata": {
      "needs_background": "light"
     },
     "output_type": "display_data"
    }
   ],
   "source": [
    "# Select example fromm:\n",
    "# ex1 - ex1_mod_a - ex1_mod_b - ex1_mod_c\n",
    "# ex2 - ex2_mod_a - ex2_mod_b - ex2_mod_c\n",
    "# ex3 - ex3_mod_a - ex3_mod_b - ex3_mod_c\n",
    "example_to_show = ex1\n",
    "\n",
    "plot_heatmap(example_to_show)"
   ]
  },
  {
   "cell_type": "code",
   "execution_count": null,
   "metadata": {},
   "outputs": [],
   "source": []
  }
 ],
 "metadata": {
  "kernelspec": {
   "display_name": "Python [conda env:TFM]",
   "language": "python",
   "name": "conda-env-TFM-py"
  },
  "language_info": {
   "codemirror_mode": {
    "name": "ipython",
    "version": 3
   },
   "file_extension": ".py",
   "mimetype": "text/x-python",
   "name": "python",
   "nbconvert_exporter": "python",
   "pygments_lexer": "ipython3",
   "version": "3.8.5"
  },
  "pycharm": {
   "stem_cell": {
    "cell_type": "raw",
    "metadata": {
     "collapsed": false
    },
    "source": []
   }
  }
 },
 "nbformat": 4,
 "nbformat_minor": 1
}
